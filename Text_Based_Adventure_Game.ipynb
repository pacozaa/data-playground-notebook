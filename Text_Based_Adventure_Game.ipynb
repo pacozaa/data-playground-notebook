{
  "nbformat": 4,
  "nbformat_minor": 0,
  "metadata": {
    "colab": {
      "provenance": [],
      "authorship_tag": "ABX9TyM1QTg4+N3hba5YQOdZ1Y5e",
      "include_colab_link": true
    },
    "kernelspec": {
      "name": "python3",
      "display_name": "Python 3"
    },
    "language_info": {
      "name": "python"
    }
  },
  "cells": [
    {
      "cell_type": "markdown",
      "metadata": {
        "id": "view-in-github",
        "colab_type": "text"
      },
      "source": [
        "<a href=\"https://colab.research.google.com/github/pacozaa/data-playground-notebook/blob/main/Text_Based_Adventure_Game.ipynb\" target=\"_parent\"><img src=\"https://colab.research.google.com/assets/colab-badge.svg\" alt=\"Open In Colab\"/></a>"
      ]
    },
    {
      "cell_type": "markdown",
      "source": [
        "# From Chat GPT\n",
        "\n",
        "https://chatgpt.com/share/e2bd9951-ef2d-449b-aa2a-7594c70484fe\n",
        "\n",
        "# How it works:\n",
        "* Rooms: Each room has a name, description, and possible exits that lead to other rooms.\n",
        "* Movement: The player can move between rooms by typing directions (like \"north\" or \"east\").\n",
        "* Game Engine: The game engine controls the flow of the game, starting at the \"Entrance\" and processing player input.\n",
        "\n",
        "# How to Play:\n",
        "Run the script.\n",
        "Type directions such as\n",
        "- \"north\"\n",
        "- \"south\"\n",
        "- \"east\"\n",
        "- \"west\" based on available exits.\n",
        "\n",
        "**Explore different rooms and discover the treasure (or fall into a trap!).\n",
        "Feel free to expand the game by adding more rooms, interactive objects, or challenges.**"
      ],
      "metadata": {
        "id": "4Xv4oHNswnU1"
      }
    },
    {
      "cell_type": "code",
      "execution_count": 1,
      "metadata": {
        "colab": {
          "base_uri": "https://localhost:8080/",
          "height": 829
        },
        "id": "xW8VZ2uQwFvD",
        "outputId": "c6123684-6f3a-4223-8680-dfd21d4ad6e8"
      },
      "outputs": [
        {
          "output_type": "stream",
          "name": "stdout",
          "text": [
            "\n",
            "Welcome to the adventure game!\n",
            "\n",
            "You are standing at the entrance of a mysterious cave.\n",
            "Available exits:  north\n",
            "\n",
            "What do you do? (type 'quit' to exit): north\n",
            "\n",
            "You move to Cavern.\n",
            "The cavern is dark and damp, with echoes all around.\n",
            "Available exits:  south, west, east\n",
            "\n",
            "What do you do? (type 'quit' to exit): north\n",
            "\n",
            "Invalid command, try again.\n",
            "Available exits:  south, west, east\n",
            "\n",
            "What do you do? (type 'quit' to exit): east\n",
            "\n",
            "You move to Treasure Room.\n",
            "You've found the treasure room, filled with glittering gold!\n",
            "Available exits:  west\n",
            "\n",
            "What do you do? (type 'quit' to exit): west\n",
            "\n",
            "You move to Cavern.\n",
            "The cavern is dark and damp, with echoes all around.\n",
            "Available exits:  south, west, east\n"
          ]
        },
        {
          "output_type": "error",
          "ename": "KeyboardInterrupt",
          "evalue": "Interrupted by user",
          "traceback": [
            "\u001b[0;31m---------------------------------------------------------------------------\u001b[0m",
            "\u001b[0;31mKeyboardInterrupt\u001b[0m                         Traceback (most recent call last)",
            "\u001b[0;32m<ipython-input-1-49c748881a96>\u001b[0m in \u001b[0;36m<cell line: 85>\u001b[0;34m()\u001b[0m\n\u001b[1;32m     85\u001b[0m \u001b[0;32mif\u001b[0m \u001b[0m__name__\u001b[0m \u001b[0;34m==\u001b[0m \u001b[0;34m\"__main__\"\u001b[0m\u001b[0;34m:\u001b[0m\u001b[0;34m\u001b[0m\u001b[0;34m\u001b[0m\u001b[0m\n\u001b[1;32m     86\u001b[0m     \u001b[0mgame\u001b[0m \u001b[0;34m=\u001b[0m \u001b[0msetup_game\u001b[0m\u001b[0;34m(\u001b[0m\u001b[0;34m)\u001b[0m\u001b[0;34m\u001b[0m\u001b[0;34m\u001b[0m\u001b[0m\n\u001b[0;32m---> 87\u001b[0;31m     \u001b[0mgame\u001b[0m\u001b[0;34m.\u001b[0m\u001b[0mplay\u001b[0m\u001b[0;34m(\u001b[0m\u001b[0;34m)\u001b[0m\u001b[0;34m\u001b[0m\u001b[0;34m\u001b[0m\u001b[0m\n\u001b[0m",
            "\u001b[0;32m<ipython-input-1-49c748881a96>\u001b[0m in \u001b[0;36mplay\u001b[0;34m(self)\u001b[0m\n\u001b[1;32m     46\u001b[0m         \u001b[0;32mwhile\u001b[0m \u001b[0;32mTrue\u001b[0m\u001b[0;34m:\u001b[0m\u001b[0;34m\u001b[0m\u001b[0;34m\u001b[0m\u001b[0m\n\u001b[1;32m     47\u001b[0m             \u001b[0mself\u001b[0m\u001b[0;34m.\u001b[0m\u001b[0mcurrent_room\u001b[0m\u001b[0;34m.\u001b[0m\u001b[0mshow_exits\u001b[0m\u001b[0;34m(\u001b[0m\u001b[0;34m)\u001b[0m\u001b[0;34m\u001b[0m\u001b[0;34m\u001b[0m\u001b[0m\n\u001b[0;32m---> 48\u001b[0;31m             \u001b[0mcommand\u001b[0m \u001b[0;34m=\u001b[0m \u001b[0minput\u001b[0m\u001b[0;34m(\u001b[0m\u001b[0;34m\"\\nWhat do you do? (type 'quit' to exit): \"\u001b[0m\u001b[0;34m)\u001b[0m\u001b[0;34m.\u001b[0m\u001b[0mlower\u001b[0m\u001b[0;34m(\u001b[0m\u001b[0;34m)\u001b[0m\u001b[0;34m\u001b[0m\u001b[0;34m\u001b[0m\u001b[0m\n\u001b[0m\u001b[1;32m     49\u001b[0m \u001b[0;34m\u001b[0m\u001b[0m\n\u001b[1;32m     50\u001b[0m             \u001b[0;32mif\u001b[0m \u001b[0mcommand\u001b[0m \u001b[0;34m==\u001b[0m \u001b[0;34m\"quit\"\u001b[0m\u001b[0;34m:\u001b[0m\u001b[0;34m\u001b[0m\u001b[0;34m\u001b[0m\u001b[0m\n",
            "\u001b[0;32m/usr/local/lib/python3.10/dist-packages/ipykernel/kernelbase.py\u001b[0m in \u001b[0;36mraw_input\u001b[0;34m(self, prompt)\u001b[0m\n\u001b[1;32m    849\u001b[0m                 \u001b[0;34m\"raw_input was called, but this frontend does not support input requests.\"\u001b[0m\u001b[0;34m\u001b[0m\u001b[0;34m\u001b[0m\u001b[0m\n\u001b[1;32m    850\u001b[0m             )\n\u001b[0;32m--> 851\u001b[0;31m         return self._input_request(str(prompt),\n\u001b[0m\u001b[1;32m    852\u001b[0m             \u001b[0mself\u001b[0m\u001b[0;34m.\u001b[0m\u001b[0m_parent_ident\u001b[0m\u001b[0;34m,\u001b[0m\u001b[0;34m\u001b[0m\u001b[0;34m\u001b[0m\u001b[0m\n\u001b[1;32m    853\u001b[0m             \u001b[0mself\u001b[0m\u001b[0;34m.\u001b[0m\u001b[0m_parent_header\u001b[0m\u001b[0;34m,\u001b[0m\u001b[0;34m\u001b[0m\u001b[0;34m\u001b[0m\u001b[0m\n",
            "\u001b[0;32m/usr/local/lib/python3.10/dist-packages/ipykernel/kernelbase.py\u001b[0m in \u001b[0;36m_input_request\u001b[0;34m(self, prompt, ident, parent, password)\u001b[0m\n\u001b[1;32m    893\u001b[0m             \u001b[0;32mexcept\u001b[0m \u001b[0mKeyboardInterrupt\u001b[0m\u001b[0;34m:\u001b[0m\u001b[0;34m\u001b[0m\u001b[0;34m\u001b[0m\u001b[0m\n\u001b[1;32m    894\u001b[0m                 \u001b[0;31m# re-raise KeyboardInterrupt, to truncate traceback\u001b[0m\u001b[0;34m\u001b[0m\u001b[0;34m\u001b[0m\u001b[0m\n\u001b[0;32m--> 895\u001b[0;31m                 \u001b[0;32mraise\u001b[0m \u001b[0mKeyboardInterrupt\u001b[0m\u001b[0;34m(\u001b[0m\u001b[0;34m\"Interrupted by user\"\u001b[0m\u001b[0;34m)\u001b[0m \u001b[0;32mfrom\u001b[0m \u001b[0;32mNone\u001b[0m\u001b[0;34m\u001b[0m\u001b[0;34m\u001b[0m\u001b[0m\n\u001b[0m\u001b[1;32m    896\u001b[0m             \u001b[0;32mexcept\u001b[0m \u001b[0mException\u001b[0m \u001b[0;32mas\u001b[0m \u001b[0me\u001b[0m\u001b[0;34m:\u001b[0m\u001b[0;34m\u001b[0m\u001b[0;34m\u001b[0m\u001b[0m\n\u001b[1;32m    897\u001b[0m                 \u001b[0mself\u001b[0m\u001b[0;34m.\u001b[0m\u001b[0mlog\u001b[0m\u001b[0;34m.\u001b[0m\u001b[0mwarning\u001b[0m\u001b[0;34m(\u001b[0m\u001b[0;34m\"Invalid Message:\"\u001b[0m\u001b[0;34m,\u001b[0m \u001b[0mexc_info\u001b[0m\u001b[0;34m=\u001b[0m\u001b[0;32mTrue\u001b[0m\u001b[0;34m)\u001b[0m\u001b[0;34m\u001b[0m\u001b[0;34m\u001b[0m\u001b[0m\n",
            "\u001b[0;31mKeyboardInterrupt\u001b[0m: Interrupted by user"
          ]
        }
      ],
      "source": [
        "import time\n",
        "\n",
        "# Define the game environment\n",
        "class Room:\n",
        "    def __init__(self, name, description):\n",
        "        self.name = name\n",
        "        self.description = description\n",
        "        self.exits = {}\n",
        "\n",
        "    def set_exits(self, directions):\n",
        "        self.exits = directions\n",
        "\n",
        "    def show_description(self):\n",
        "        print(self.description)\n",
        "\n",
        "    def show_exits(self):\n",
        "        print(\"Available exits: \", \", \".join(self.exits.keys()))\n",
        "\n",
        "# Define the game engine\n",
        "class Game:\n",
        "    def __init__(self):\n",
        "        self.rooms = {}\n",
        "        self.current_room = None\n",
        "\n",
        "    def add_room(self, room):\n",
        "        self.rooms[room.name] = room\n",
        "\n",
        "    def set_starting_room(self, room_name):\n",
        "        self.current_room = self.rooms[room_name]\n",
        "\n",
        "    def move_to_room(self, direction):\n",
        "        if direction in self.current_room.exits:\n",
        "            next_room_name = self.current_room.exits[direction]\n",
        "            self.current_room = self.rooms[next_room_name]\n",
        "            print(f\"\\nYou move to {self.current_room.name}.\")\n",
        "            time.sleep(1)\n",
        "            self.current_room.show_description()\n",
        "        else:\n",
        "            print(\"\\nYou can't go that way!\")\n",
        "\n",
        "    def play(self):\n",
        "        print(\"\\nWelcome to the adventure game!\\n\")\n",
        "        time.sleep(1)\n",
        "        self.current_room.show_description()\n",
        "\n",
        "        while True:\n",
        "            self.current_room.show_exits()\n",
        "            command = input(\"\\nWhat do you do? (type 'quit' to exit): \").lower()\n",
        "\n",
        "            if command == \"quit\":\n",
        "                print(\"\\nThanks for playing!\")\n",
        "                break\n",
        "            elif command in self.current_room.exits:\n",
        "                self.move_to_room(command)\n",
        "            else:\n",
        "                print(\"\\nInvalid command, try again.\")\n",
        "\n",
        "# Create rooms\n",
        "def setup_game():\n",
        "    # Create rooms\n",
        "    entrance = Room(\"Entrance\", \"You are standing at the entrance of a mysterious cave.\")\n",
        "    cavern = Room(\"Cavern\", \"The cavern is dark and damp, with echoes all around.\")\n",
        "    treasure_room = Room(\"Treasure Room\", \"You've found the treasure room, filled with glittering gold!\")\n",
        "    trap_room = Room(\"Trap Room\", \"Uh oh! You stepped into a trap. There's no way out!\")\n",
        "\n",
        "    # Set exits for each room\n",
        "    entrance.set_exits({\"north\": \"Cavern\"})\n",
        "    cavern.set_exits({\"south\": \"Entrance\", \"west\": \"Trap Room\", \"east\": \"Treasure Room\"})\n",
        "    treasure_room.set_exits({\"west\": \"Cavern\"})\n",
        "    trap_room.set_exits({\"east\": \"Cavern\"})\n",
        "\n",
        "    # Create the game and add rooms\n",
        "    game = Game()\n",
        "    game.add_room(entrance)\n",
        "    game.add_room(cavern)\n",
        "    game.add_room(treasure_room)\n",
        "    game.add_room(trap_room)\n",
        "\n",
        "    # Set the starting room\n",
        "    game.set_starting_room(\"Entrance\")\n",
        "\n",
        "    return game\n",
        "\n",
        "# Start the game\n",
        "if __name__ == \"__main__\":\n",
        "    game = setup_game()\n",
        "    game.play()\n"
      ]
    }
  ]
}