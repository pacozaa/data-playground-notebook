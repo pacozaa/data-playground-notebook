{
  "nbformat": 4,
  "nbformat_minor": 0,
  "metadata": {
    "colab": {
      "provenance": [],
      "authorship_tag": "ABX9TyOeCV1NfkGfXQIh8OP2s4Ru",
      "include_colab_link": true
    },
    "kernelspec": {
      "name": "python3",
      "display_name": "Python 3"
    },
    "language_info": {
      "name": "python"
    },
    "widgets": {
      "application/vnd.jupyter.widget-state+json": {
        "4c0a964ff4de45eebd4db64ba2cb3664": {
          "model_module": "@jupyter-widgets/controls",
          "model_name": "HBoxModel",
          "model_module_version": "1.5.0",
          "state": {
            "_dom_classes": [],
            "_model_module": "@jupyter-widgets/controls",
            "_model_module_version": "1.5.0",
            "_model_name": "HBoxModel",
            "_view_count": null,
            "_view_module": "@jupyter-widgets/controls",
            "_view_module_version": "1.5.0",
            "_view_name": "HBoxView",
            "box_style": "",
            "children": [
              "IPY_MODEL_fa8e44405b74453ba75144be7e602ecf",
              "IPY_MODEL_eabf0b9616a94d59a5aed03b3a7a1433",
              "IPY_MODEL_011d1b745fcf4ef5b6142c6129ecf3eb"
            ],
            "layout": "IPY_MODEL_ec28b1f25df843eeb8b879c70de41ef8"
          }
        },
        "fa8e44405b74453ba75144be7e602ecf": {
          "model_module": "@jupyter-widgets/controls",
          "model_name": "HTMLModel",
          "model_module_version": "1.5.0",
          "state": {
            "_dom_classes": [],
            "_model_module": "@jupyter-widgets/controls",
            "_model_module_version": "1.5.0",
            "_model_name": "HTMLModel",
            "_view_count": null,
            "_view_module": "@jupyter-widgets/controls",
            "_view_module_version": "1.5.0",
            "_view_name": "HTMLView",
            "description": "",
            "description_tooltip": null,
            "layout": "IPY_MODEL_bfa53198607a407280d40674a2e6e56d",
            "placeholder": "​",
            "style": "IPY_MODEL_d44d25f604d7431c827d98967de2145f",
            "value": "Uploading the dataset shards: 100%"
          }
        },
        "eabf0b9616a94d59a5aed03b3a7a1433": {
          "model_module": "@jupyter-widgets/controls",
          "model_name": "FloatProgressModel",
          "model_module_version": "1.5.0",
          "state": {
            "_dom_classes": [],
            "_model_module": "@jupyter-widgets/controls",
            "_model_module_version": "1.5.0",
            "_model_name": "FloatProgressModel",
            "_view_count": null,
            "_view_module": "@jupyter-widgets/controls",
            "_view_module_version": "1.5.0",
            "_view_name": "ProgressView",
            "bar_style": "success",
            "description": "",
            "description_tooltip": null,
            "layout": "IPY_MODEL_a67682789e874fa8b68dab76d64d4bf2",
            "max": 1,
            "min": 0,
            "orientation": "horizontal",
            "style": "IPY_MODEL_ba2adcaad0dd492f98ceef1f5eddb91e",
            "value": 1
          }
        },
        "011d1b745fcf4ef5b6142c6129ecf3eb": {
          "model_module": "@jupyter-widgets/controls",
          "model_name": "HTMLModel",
          "model_module_version": "1.5.0",
          "state": {
            "_dom_classes": [],
            "_model_module": "@jupyter-widgets/controls",
            "_model_module_version": "1.5.0",
            "_model_name": "HTMLModel",
            "_view_count": null,
            "_view_module": "@jupyter-widgets/controls",
            "_view_module_version": "1.5.0",
            "_view_name": "HTMLView",
            "description": "",
            "description_tooltip": null,
            "layout": "IPY_MODEL_921f19cde0e84ef5a84e2fc6aac332d9",
            "placeholder": "​",
            "style": "IPY_MODEL_482946ac8a9a4d0da759d41fee2ec7d4",
            "value": " 1/1 [00:05&lt;00:00,  5.38s/it]"
          }
        },
        "ec28b1f25df843eeb8b879c70de41ef8": {
          "model_module": "@jupyter-widgets/base",
          "model_name": "LayoutModel",
          "model_module_version": "1.2.0",
          "state": {
            "_model_module": "@jupyter-widgets/base",
            "_model_module_version": "1.2.0",
            "_model_name": "LayoutModel",
            "_view_count": null,
            "_view_module": "@jupyter-widgets/base",
            "_view_module_version": "1.2.0",
            "_view_name": "LayoutView",
            "align_content": null,
            "align_items": null,
            "align_self": null,
            "border": null,
            "bottom": null,
            "display": null,
            "flex": null,
            "flex_flow": null,
            "grid_area": null,
            "grid_auto_columns": null,
            "grid_auto_flow": null,
            "grid_auto_rows": null,
            "grid_column": null,
            "grid_gap": null,
            "grid_row": null,
            "grid_template_areas": null,
            "grid_template_columns": null,
            "grid_template_rows": null,
            "height": null,
            "justify_content": null,
            "justify_items": null,
            "left": null,
            "margin": null,
            "max_height": null,
            "max_width": null,
            "min_height": null,
            "min_width": null,
            "object_fit": null,
            "object_position": null,
            "order": null,
            "overflow": null,
            "overflow_x": null,
            "overflow_y": null,
            "padding": null,
            "right": null,
            "top": null,
            "visibility": null,
            "width": null
          }
        },
        "bfa53198607a407280d40674a2e6e56d": {
          "model_module": "@jupyter-widgets/base",
          "model_name": "LayoutModel",
          "model_module_version": "1.2.0",
          "state": {
            "_model_module": "@jupyter-widgets/base",
            "_model_module_version": "1.2.0",
            "_model_name": "LayoutModel",
            "_view_count": null,
            "_view_module": "@jupyter-widgets/base",
            "_view_module_version": "1.2.0",
            "_view_name": "LayoutView",
            "align_content": null,
            "align_items": null,
            "align_self": null,
            "border": null,
            "bottom": null,
            "display": null,
            "flex": null,
            "flex_flow": null,
            "grid_area": null,
            "grid_auto_columns": null,
            "grid_auto_flow": null,
            "grid_auto_rows": null,
            "grid_column": null,
            "grid_gap": null,
            "grid_row": null,
            "grid_template_areas": null,
            "grid_template_columns": null,
            "grid_template_rows": null,
            "height": null,
            "justify_content": null,
            "justify_items": null,
            "left": null,
            "margin": null,
            "max_height": null,
            "max_width": null,
            "min_height": null,
            "min_width": null,
            "object_fit": null,
            "object_position": null,
            "order": null,
            "overflow": null,
            "overflow_x": null,
            "overflow_y": null,
            "padding": null,
            "right": null,
            "top": null,
            "visibility": null,
            "width": null
          }
        },
        "d44d25f604d7431c827d98967de2145f": {
          "model_module": "@jupyter-widgets/controls",
          "model_name": "DescriptionStyleModel",
          "model_module_version": "1.5.0",
          "state": {
            "_model_module": "@jupyter-widgets/controls",
            "_model_module_version": "1.5.0",
            "_model_name": "DescriptionStyleModel",
            "_view_count": null,
            "_view_module": "@jupyter-widgets/base",
            "_view_module_version": "1.2.0",
            "_view_name": "StyleView",
            "description_width": ""
          }
        },
        "a67682789e874fa8b68dab76d64d4bf2": {
          "model_module": "@jupyter-widgets/base",
          "model_name": "LayoutModel",
          "model_module_version": "1.2.0",
          "state": {
            "_model_module": "@jupyter-widgets/base",
            "_model_module_version": "1.2.0",
            "_model_name": "LayoutModel",
            "_view_count": null,
            "_view_module": "@jupyter-widgets/base",
            "_view_module_version": "1.2.0",
            "_view_name": "LayoutView",
            "align_content": null,
            "align_items": null,
            "align_self": null,
            "border": null,
            "bottom": null,
            "display": null,
            "flex": null,
            "flex_flow": null,
            "grid_area": null,
            "grid_auto_columns": null,
            "grid_auto_flow": null,
            "grid_auto_rows": null,
            "grid_column": null,
            "grid_gap": null,
            "grid_row": null,
            "grid_template_areas": null,
            "grid_template_columns": null,
            "grid_template_rows": null,
            "height": null,
            "justify_content": null,
            "justify_items": null,
            "left": null,
            "margin": null,
            "max_height": null,
            "max_width": null,
            "min_height": null,
            "min_width": null,
            "object_fit": null,
            "object_position": null,
            "order": null,
            "overflow": null,
            "overflow_x": null,
            "overflow_y": null,
            "padding": null,
            "right": null,
            "top": null,
            "visibility": null,
            "width": null
          }
        },
        "ba2adcaad0dd492f98ceef1f5eddb91e": {
          "model_module": "@jupyter-widgets/controls",
          "model_name": "ProgressStyleModel",
          "model_module_version": "1.5.0",
          "state": {
            "_model_module": "@jupyter-widgets/controls",
            "_model_module_version": "1.5.0",
            "_model_name": "ProgressStyleModel",
            "_view_count": null,
            "_view_module": "@jupyter-widgets/base",
            "_view_module_version": "1.2.0",
            "_view_name": "StyleView",
            "bar_color": null,
            "description_width": ""
          }
        },
        "921f19cde0e84ef5a84e2fc6aac332d9": {
          "model_module": "@jupyter-widgets/base",
          "model_name": "LayoutModel",
          "model_module_version": "1.2.0",
          "state": {
            "_model_module": "@jupyter-widgets/base",
            "_model_module_version": "1.2.0",
            "_model_name": "LayoutModel",
            "_view_count": null,
            "_view_module": "@jupyter-widgets/base",
            "_view_module_version": "1.2.0",
            "_view_name": "LayoutView",
            "align_content": null,
            "align_items": null,
            "align_self": null,
            "border": null,
            "bottom": null,
            "display": null,
            "flex": null,
            "flex_flow": null,
            "grid_area": null,
            "grid_auto_columns": null,
            "grid_auto_flow": null,
            "grid_auto_rows": null,
            "grid_column": null,
            "grid_gap": null,
            "grid_row": null,
            "grid_template_areas": null,
            "grid_template_columns": null,
            "grid_template_rows": null,
            "height": null,
            "justify_content": null,
            "justify_items": null,
            "left": null,
            "margin": null,
            "max_height": null,
            "max_width": null,
            "min_height": null,
            "min_width": null,
            "object_fit": null,
            "object_position": null,
            "order": null,
            "overflow": null,
            "overflow_x": null,
            "overflow_y": null,
            "padding": null,
            "right": null,
            "top": null,
            "visibility": null,
            "width": null
          }
        },
        "482946ac8a9a4d0da759d41fee2ec7d4": {
          "model_module": "@jupyter-widgets/controls",
          "model_name": "DescriptionStyleModel",
          "model_module_version": "1.5.0",
          "state": {
            "_model_module": "@jupyter-widgets/controls",
            "_model_module_version": "1.5.0",
            "_model_name": "DescriptionStyleModel",
            "_view_count": null,
            "_view_module": "@jupyter-widgets/base",
            "_view_module_version": "1.2.0",
            "_view_name": "StyleView",
            "description_width": ""
          }
        },
        "a1eb39fbf547467d9664b416354e06cb": {
          "model_module": "@jupyter-widgets/controls",
          "model_name": "HBoxModel",
          "model_module_version": "1.5.0",
          "state": {
            "_dom_classes": [],
            "_model_module": "@jupyter-widgets/controls",
            "_model_module_version": "1.5.0",
            "_model_name": "HBoxModel",
            "_view_count": null,
            "_view_module": "@jupyter-widgets/controls",
            "_view_module_version": "1.5.0",
            "_view_name": "HBoxView",
            "box_style": "",
            "children": [
              "IPY_MODEL_bd4f703f4c6845c181bfe01bd4fcff3d",
              "IPY_MODEL_877b6b13b303412397e9f4ac86b4206b",
              "IPY_MODEL_ea62d543eb63469b8f038daa0503a367"
            ],
            "layout": "IPY_MODEL_231e322c75e84799b95733311e1305c5"
          }
        },
        "bd4f703f4c6845c181bfe01bd4fcff3d": {
          "model_module": "@jupyter-widgets/controls",
          "model_name": "HTMLModel",
          "model_module_version": "1.5.0",
          "state": {
            "_dom_classes": [],
            "_model_module": "@jupyter-widgets/controls",
            "_model_module_version": "1.5.0",
            "_model_name": "HTMLModel",
            "_view_count": null,
            "_view_module": "@jupyter-widgets/controls",
            "_view_module_version": "1.5.0",
            "_view_name": "HTMLView",
            "description": "",
            "description_tooltip": null,
            "layout": "IPY_MODEL_a9c8e5122dfc494484a9ed9ee526ae53",
            "placeholder": "​",
            "style": "IPY_MODEL_d42863cdc9e54f34881328497189d06b",
            "value": "Creating parquet from Arrow format: 100%"
          }
        },
        "877b6b13b303412397e9f4ac86b4206b": {
          "model_module": "@jupyter-widgets/controls",
          "model_name": "FloatProgressModel",
          "model_module_version": "1.5.0",
          "state": {
            "_dom_classes": [],
            "_model_module": "@jupyter-widgets/controls",
            "_model_module_version": "1.5.0",
            "_model_name": "FloatProgressModel",
            "_view_count": null,
            "_view_module": "@jupyter-widgets/controls",
            "_view_module_version": "1.5.0",
            "_view_name": "ProgressView",
            "bar_style": "success",
            "description": "",
            "description_tooltip": null,
            "layout": "IPY_MODEL_4ec77cd6e69a4f759bbf2edcba7af668",
            "max": 1,
            "min": 0,
            "orientation": "horizontal",
            "style": "IPY_MODEL_f48d8e3605cc4f26a6428492e33aba48",
            "value": 1
          }
        },
        "ea62d543eb63469b8f038daa0503a367": {
          "model_module": "@jupyter-widgets/controls",
          "model_name": "HTMLModel",
          "model_module_version": "1.5.0",
          "state": {
            "_dom_classes": [],
            "_model_module": "@jupyter-widgets/controls",
            "_model_module_version": "1.5.0",
            "_model_name": "HTMLModel",
            "_view_count": null,
            "_view_module": "@jupyter-widgets/controls",
            "_view_module_version": "1.5.0",
            "_view_name": "HTMLView",
            "description": "",
            "description_tooltip": null,
            "layout": "IPY_MODEL_655e2bf9ef8a4413a80cad446931618d",
            "placeholder": "​",
            "style": "IPY_MODEL_5f5e2907199a49a0ba696a976e20ace3",
            "value": " 1/1 [00:00&lt;00:00, 34.54ba/s]"
          }
        },
        "231e322c75e84799b95733311e1305c5": {
          "model_module": "@jupyter-widgets/base",
          "model_name": "LayoutModel",
          "model_module_version": "1.2.0",
          "state": {
            "_model_module": "@jupyter-widgets/base",
            "_model_module_version": "1.2.0",
            "_model_name": "LayoutModel",
            "_view_count": null,
            "_view_module": "@jupyter-widgets/base",
            "_view_module_version": "1.2.0",
            "_view_name": "LayoutView",
            "align_content": null,
            "align_items": null,
            "align_self": null,
            "border": null,
            "bottom": null,
            "display": null,
            "flex": null,
            "flex_flow": null,
            "grid_area": null,
            "grid_auto_columns": null,
            "grid_auto_flow": null,
            "grid_auto_rows": null,
            "grid_column": null,
            "grid_gap": null,
            "grid_row": null,
            "grid_template_areas": null,
            "grid_template_columns": null,
            "grid_template_rows": null,
            "height": null,
            "justify_content": null,
            "justify_items": null,
            "left": null,
            "margin": null,
            "max_height": null,
            "max_width": null,
            "min_height": null,
            "min_width": null,
            "object_fit": null,
            "object_position": null,
            "order": null,
            "overflow": null,
            "overflow_x": null,
            "overflow_y": null,
            "padding": null,
            "right": null,
            "top": null,
            "visibility": null,
            "width": null
          }
        },
        "a9c8e5122dfc494484a9ed9ee526ae53": {
          "model_module": "@jupyter-widgets/base",
          "model_name": "LayoutModel",
          "model_module_version": "1.2.0",
          "state": {
            "_model_module": "@jupyter-widgets/base",
            "_model_module_version": "1.2.0",
            "_model_name": "LayoutModel",
            "_view_count": null,
            "_view_module": "@jupyter-widgets/base",
            "_view_module_version": "1.2.0",
            "_view_name": "LayoutView",
            "align_content": null,
            "align_items": null,
            "align_self": null,
            "border": null,
            "bottom": null,
            "display": null,
            "flex": null,
            "flex_flow": null,
            "grid_area": null,
            "grid_auto_columns": null,
            "grid_auto_flow": null,
            "grid_auto_rows": null,
            "grid_column": null,
            "grid_gap": null,
            "grid_row": null,
            "grid_template_areas": null,
            "grid_template_columns": null,
            "grid_template_rows": null,
            "height": null,
            "justify_content": null,
            "justify_items": null,
            "left": null,
            "margin": null,
            "max_height": null,
            "max_width": null,
            "min_height": null,
            "min_width": null,
            "object_fit": null,
            "object_position": null,
            "order": null,
            "overflow": null,
            "overflow_x": null,
            "overflow_y": null,
            "padding": null,
            "right": null,
            "top": null,
            "visibility": null,
            "width": null
          }
        },
        "d42863cdc9e54f34881328497189d06b": {
          "model_module": "@jupyter-widgets/controls",
          "model_name": "DescriptionStyleModel",
          "model_module_version": "1.5.0",
          "state": {
            "_model_module": "@jupyter-widgets/controls",
            "_model_module_version": "1.5.0",
            "_model_name": "DescriptionStyleModel",
            "_view_count": null,
            "_view_module": "@jupyter-widgets/base",
            "_view_module_version": "1.2.0",
            "_view_name": "StyleView",
            "description_width": ""
          }
        },
        "4ec77cd6e69a4f759bbf2edcba7af668": {
          "model_module": "@jupyter-widgets/base",
          "model_name": "LayoutModel",
          "model_module_version": "1.2.0",
          "state": {
            "_model_module": "@jupyter-widgets/base",
            "_model_module_version": "1.2.0",
            "_model_name": "LayoutModel",
            "_view_count": null,
            "_view_module": "@jupyter-widgets/base",
            "_view_module_version": "1.2.0",
            "_view_name": "LayoutView",
            "align_content": null,
            "align_items": null,
            "align_self": null,
            "border": null,
            "bottom": null,
            "display": null,
            "flex": null,
            "flex_flow": null,
            "grid_area": null,
            "grid_auto_columns": null,
            "grid_auto_flow": null,
            "grid_auto_rows": null,
            "grid_column": null,
            "grid_gap": null,
            "grid_row": null,
            "grid_template_areas": null,
            "grid_template_columns": null,
            "grid_template_rows": null,
            "height": null,
            "justify_content": null,
            "justify_items": null,
            "left": null,
            "margin": null,
            "max_height": null,
            "max_width": null,
            "min_height": null,
            "min_width": null,
            "object_fit": null,
            "object_position": null,
            "order": null,
            "overflow": null,
            "overflow_x": null,
            "overflow_y": null,
            "padding": null,
            "right": null,
            "top": null,
            "visibility": null,
            "width": null
          }
        },
        "f48d8e3605cc4f26a6428492e33aba48": {
          "model_module": "@jupyter-widgets/controls",
          "model_name": "ProgressStyleModel",
          "model_module_version": "1.5.0",
          "state": {
            "_model_module": "@jupyter-widgets/controls",
            "_model_module_version": "1.5.0",
            "_model_name": "ProgressStyleModel",
            "_view_count": null,
            "_view_module": "@jupyter-widgets/base",
            "_view_module_version": "1.2.0",
            "_view_name": "StyleView",
            "bar_color": null,
            "description_width": ""
          }
        },
        "655e2bf9ef8a4413a80cad446931618d": {
          "model_module": "@jupyter-widgets/base",
          "model_name": "LayoutModel",
          "model_module_version": "1.2.0",
          "state": {
            "_model_module": "@jupyter-widgets/base",
            "_model_module_version": "1.2.0",
            "_model_name": "LayoutModel",
            "_view_count": null,
            "_view_module": "@jupyter-widgets/base",
            "_view_module_version": "1.2.0",
            "_view_name": "LayoutView",
            "align_content": null,
            "align_items": null,
            "align_self": null,
            "border": null,
            "bottom": null,
            "display": null,
            "flex": null,
            "flex_flow": null,
            "grid_area": null,
            "grid_auto_columns": null,
            "grid_auto_flow": null,
            "grid_auto_rows": null,
            "grid_column": null,
            "grid_gap": null,
            "grid_row": null,
            "grid_template_areas": null,
            "grid_template_columns": null,
            "grid_template_rows": null,
            "height": null,
            "justify_content": null,
            "justify_items": null,
            "left": null,
            "margin": null,
            "max_height": null,
            "max_width": null,
            "min_height": null,
            "min_width": null,
            "object_fit": null,
            "object_position": null,
            "order": null,
            "overflow": null,
            "overflow_x": null,
            "overflow_y": null,
            "padding": null,
            "right": null,
            "top": null,
            "visibility": null,
            "width": null
          }
        },
        "5f5e2907199a49a0ba696a976e20ace3": {
          "model_module": "@jupyter-widgets/controls",
          "model_name": "DescriptionStyleModel",
          "model_module_version": "1.5.0",
          "state": {
            "_model_module": "@jupyter-widgets/controls",
            "_model_module_version": "1.5.0",
            "_model_name": "DescriptionStyleModel",
            "_view_count": null,
            "_view_module": "@jupyter-widgets/base",
            "_view_module_version": "1.2.0",
            "_view_name": "StyleView",
            "description_width": ""
          }
        }
      }
    }
  },
  "cells": [
    {
      "cell_type": "markdown",
      "metadata": {
        "id": "view-in-github",
        "colab_type": "text"
      },
      "source": [
        "<a href=\"https://colab.research.google.com/github/pacozaa/data-playground-notebook/blob/main/StickyNotes_Generator_Pipeline.ipynb\" target=\"_parent\"><img src=\"https://colab.research.google.com/assets/colab-badge.svg\" alt=\"Open In Colab\"/></a>"
      ]
    },
    {
      "cell_type": "code",
      "execution_count": 1,
      "metadata": {
        "colab": {
          "base_uri": "https://localhost:8080/"
        },
        "id": "-E2hySra9Soe",
        "outputId": "3a160c27-0a83-4070-e71b-cd5c03d7ea1c"
      },
      "outputs": [
        {
          "output_type": "stream",
          "name": "stdout",
          "text": [
            "Requirement already satisfied: groq in /usr/local/lib/python3.10/dist-packages (0.11.0)\n",
            "Requirement already satisfied: datasets in /usr/local/lib/python3.10/dist-packages (2.21.0)\n",
            "Requirement already satisfied: huggingface_hub in /usr/local/lib/python3.10/dist-packages (0.24.6)\n",
            "Requirement already satisfied: anyio<5,>=3.5.0 in /usr/local/lib/python3.10/dist-packages (from groq) (3.7.1)\n",
            "Requirement already satisfied: distro<2,>=1.7.0 in /usr/lib/python3/dist-packages (from groq) (1.7.0)\n",
            "Requirement already satisfied: httpx<1,>=0.23.0 in /usr/local/lib/python3.10/dist-packages (from groq) (0.27.2)\n",
            "Requirement already satisfied: pydantic<3,>=1.9.0 in /usr/local/lib/python3.10/dist-packages (from groq) (2.8.2)\n",
            "Requirement already satisfied: sniffio in /usr/local/lib/python3.10/dist-packages (from groq) (1.3.1)\n",
            "Requirement already satisfied: typing-extensions<5,>=4.7 in /usr/local/lib/python3.10/dist-packages (from groq) (4.12.2)\n",
            "Requirement already satisfied: filelock in /usr/local/lib/python3.10/dist-packages (from datasets) (3.15.4)\n",
            "Requirement already satisfied: numpy>=1.17 in /usr/local/lib/python3.10/dist-packages (from datasets) (1.26.4)\n",
            "Requirement already satisfied: pyarrow>=15.0.0 in /usr/local/lib/python3.10/dist-packages (from datasets) (17.0.0)\n",
            "Requirement already satisfied: dill<0.3.9,>=0.3.0 in /usr/local/lib/python3.10/dist-packages (from datasets) (0.3.8)\n",
            "Requirement already satisfied: pandas in /usr/local/lib/python3.10/dist-packages (from datasets) (2.1.4)\n",
            "Requirement already satisfied: requests>=2.32.2 in /usr/local/lib/python3.10/dist-packages (from datasets) (2.32.3)\n",
            "Requirement already satisfied: tqdm>=4.66.3 in /usr/local/lib/python3.10/dist-packages (from datasets) (4.66.5)\n",
            "Requirement already satisfied: xxhash in /usr/local/lib/python3.10/dist-packages (from datasets) (3.5.0)\n",
            "Requirement already satisfied: multiprocess in /usr/local/lib/python3.10/dist-packages (from datasets) (0.70.16)\n",
            "Requirement already satisfied: fsspec<=2024.6.1,>=2023.1.0 in /usr/local/lib/python3.10/dist-packages (from fsspec[http]<=2024.6.1,>=2023.1.0->datasets) (2024.6.1)\n",
            "Requirement already satisfied: aiohttp in /usr/local/lib/python3.10/dist-packages (from datasets) (3.10.5)\n",
            "Requirement already satisfied: packaging in /usr/local/lib/python3.10/dist-packages (from datasets) (24.1)\n",
            "Requirement already satisfied: pyyaml>=5.1 in /usr/local/lib/python3.10/dist-packages (from datasets) (6.0.2)\n",
            "Requirement already satisfied: idna>=2.8 in /usr/local/lib/python3.10/dist-packages (from anyio<5,>=3.5.0->groq) (3.8)\n",
            "Requirement already satisfied: exceptiongroup in /usr/local/lib/python3.10/dist-packages (from anyio<5,>=3.5.0->groq) (1.2.2)\n",
            "Requirement already satisfied: aiohappyeyeballs>=2.3.0 in /usr/local/lib/python3.10/dist-packages (from aiohttp->datasets) (2.4.0)\n",
            "Requirement already satisfied: aiosignal>=1.1.2 in /usr/local/lib/python3.10/dist-packages (from aiohttp->datasets) (1.3.1)\n",
            "Requirement already satisfied: attrs>=17.3.0 in /usr/local/lib/python3.10/dist-packages (from aiohttp->datasets) (24.2.0)\n",
            "Requirement already satisfied: frozenlist>=1.1.1 in /usr/local/lib/python3.10/dist-packages (from aiohttp->datasets) (1.4.1)\n",
            "Requirement already satisfied: multidict<7.0,>=4.5 in /usr/local/lib/python3.10/dist-packages (from aiohttp->datasets) (6.0.5)\n",
            "Requirement already satisfied: yarl<2.0,>=1.0 in /usr/local/lib/python3.10/dist-packages (from aiohttp->datasets) (1.9.4)\n",
            "Requirement already satisfied: async-timeout<5.0,>=4.0 in /usr/local/lib/python3.10/dist-packages (from aiohttp->datasets) (4.0.3)\n",
            "Requirement already satisfied: certifi in /usr/local/lib/python3.10/dist-packages (from httpx<1,>=0.23.0->groq) (2024.8.30)\n",
            "Requirement already satisfied: httpcore==1.* in /usr/local/lib/python3.10/dist-packages (from httpx<1,>=0.23.0->groq) (1.0.5)\n",
            "Requirement already satisfied: h11<0.15,>=0.13 in /usr/local/lib/python3.10/dist-packages (from httpcore==1.*->httpx<1,>=0.23.0->groq) (0.14.0)\n",
            "Requirement already satisfied: annotated-types>=0.4.0 in /usr/local/lib/python3.10/dist-packages (from pydantic<3,>=1.9.0->groq) (0.7.0)\n",
            "Requirement already satisfied: pydantic-core==2.20.1 in /usr/local/lib/python3.10/dist-packages (from pydantic<3,>=1.9.0->groq) (2.20.1)\n",
            "Requirement already satisfied: charset-normalizer<4,>=2 in /usr/local/lib/python3.10/dist-packages (from requests>=2.32.2->datasets) (3.3.2)\n",
            "Requirement already satisfied: urllib3<3,>=1.21.1 in /usr/local/lib/python3.10/dist-packages (from requests>=2.32.2->datasets) (2.0.7)\n",
            "Requirement already satisfied: python-dateutil>=2.8.2 in /usr/local/lib/python3.10/dist-packages (from pandas->datasets) (2.8.2)\n",
            "Requirement already satisfied: pytz>=2020.1 in /usr/local/lib/python3.10/dist-packages (from pandas->datasets) (2024.1)\n",
            "Requirement already satisfied: tzdata>=2022.1 in /usr/local/lib/python3.10/dist-packages (from pandas->datasets) (2024.1)\n",
            "Requirement already satisfied: six>=1.5 in /usr/local/lib/python3.10/dist-packages (from python-dateutil>=2.8.2->pandas->datasets) (1.16.0)\n"
          ]
        }
      ],
      "source": [
        "!pip install groq datasets huggingface_hub"
      ]
    },
    {
      "cell_type": "code",
      "source": [
        "!git clone https://github.com/pacozaa/Category-Seed.git\n",
        "%cd Category-Seed"
      ],
      "metadata": {
        "colab": {
          "base_uri": "https://localhost:8080/"
        },
        "id": "8BOFp7BBRt2M",
        "outputId": "2ac32b4e-0931-426e-9b75-6d4b1239ea7b"
      },
      "execution_count": 2,
      "outputs": [
        {
          "output_type": "stream",
          "name": "stdout",
          "text": [
            "fatal: destination path 'Category-Seed' already exists and is not an empty directory.\n",
            "/content/Category-Seed\n"
          ]
        }
      ]
    },
    {
      "cell_type": "code",
      "source": [
        "import os\n",
        "\n",
        "# Print the current working directory\n",
        "print(\"Current Working Directory:\", os.getcwd())\n",
        "\n",
        "# List all files and directories in the current working directory\n",
        "print(\"Files and Directories in Current Directory:\")\n",
        "for item in os.listdir():\n",
        "    print(item)\n",
        "\n",
        "# Now, try to access the 'Category-Seed' directory\n",
        "directory_path = './Category-Seed'\n",
        "if os.path.exists(directory_path) and os.path.isdir(directory_path):\n",
        "    print(f\"Directory '{directory_path}' exists.\")\n",
        "else:\n",
        "    print(f\"Directory '{directory_path}' does not exist.\")"
      ],
      "metadata": {
        "colab": {
          "base_uri": "https://localhost:8080/"
        },
        "id": "vTdY-IbxWHw5",
        "outputId": "628cc622-2003-4e19-ae6f-3eac52d01c71"
      },
      "execution_count": 3,
      "outputs": [
        {
          "output_type": "stream",
          "name": "stdout",
          "text": [
            "Current Working Directory: /content/Category-Seed\n",
            "Files and Directories in Current Directory:\n",
            "Category-Seed\n",
            "bash-agent.txt\n",
            "company2.json\n",
            "full-stack.txt\n",
            "web-game.txt\n",
            ".git\n",
            "bash-category.txt\n",
            "company4.json\n",
            "README.md\n",
            "unique_company.json\n",
            "company3.json\n",
            "merged_data.jsonl\n",
            "company.json\n",
            "Directory './Category-Seed' exists.\n"
          ]
        }
      ]
    },
    {
      "cell_type": "code",
      "source": [
        "import os\n",
        "import json\n",
        "\n",
        "def read_json_files_in_directory(directory):\n",
        "    # List to store the contents of all JSON files\n",
        "    json_data = []\n",
        "\n",
        "    # Iterate over all files in the directory\n",
        "    for filename in os.listdir(directory):\n",
        "        # Check if the file is a JSON file\n",
        "        if filename.endswith('.json'):\n",
        "            # Construct the full file path\n",
        "            file_path = os.path.join(directory, filename)\n",
        "\n",
        "            # Open and read the JSON file\n",
        "            with open(file_path, 'r') as file:\n",
        "                try:\n",
        "                    # Load the JSON data\n",
        "                    data = json.load(file)\n",
        "                    # Append the data to the list\n",
        "                    json_data.append(data)\n",
        "                except json.JSONDecodeError as e:\n",
        "                    print(f\"Error decoding JSON in file {file_path}: {e}\")\n",
        "\n",
        "    return json_data\n",
        "\n",
        "def write_jsonl_file(data, output_file):\n",
        "    with open(output_file, 'w') as file:\n",
        "        for item in data:\n",
        "            for entry in item:\n",
        "                json.dump(entry, file)\n",
        "                file.write('\\n')\n",
        "\n",
        "# Example usage\n",
        "directory_path = '/content/Category-Seed'\n",
        "output_file = '/content/merged_data.jsonl'\n",
        "all_json_data = read_json_files_in_directory(directory_path)\n",
        "\n",
        "# Iterate through each JSON data\n",
        "for i, data in enumerate(all_json_data):\n",
        "    transformed_data = []\n",
        "    for item in data:\n",
        "        if 'companies' in item:\n",
        "            # Iterate through each company in the 'companies' list\n",
        "            for company in item['companies']:\n",
        "                # Append the company name to the transformed data list\n",
        "                transformed_data.append({'name': company['name'],'description': company['description']})\n",
        "        else:\n",
        "            transformed_data=data\n",
        "    # Replace the original data with the transformed data\n",
        "    all_json_data[i] = transformed_data\n",
        "\n",
        "\n",
        "# Print the updated contents of all JSON data\n",
        "for data in all_json_data:\n",
        "    print(data)\n",
        "\n",
        "# Write the merged data to a JSONL file\n",
        "write_jsonl_file(all_json_data, output_file)"
      ],
      "metadata": {
        "colab": {
          "base_uri": "https://localhost:8080/"
        },
        "id": "6mze7dZYVsGc",
        "outputId": "636fc9c4-e7de-4d2c-e0ef-c61f0347bf55"
      },
      "execution_count": 4,
      "outputs": [
        {
          "output_type": "stream",
          "name": "stdout",
          "text": [
            "[{'name': 'Apple Inc.', 'description': 'Consumer electronics and software company.'}, {'name': 'Google LLC', 'description': 'Technology company specializing in Internet-related services and products.'}, {'name': 'Microsoft Corporation', 'description': 'Software development, manufacturing, and licensing.'}, {'name': 'Amazon.com Inc.', 'description': 'E-commerce and cloud computing company.'}, {'name': 'Facebook, Inc.', 'description': 'Social media and technology company.'}, {'name': 'Tesla, Inc.', 'description': 'Electric vehicle manufacturer and clean energy company.'}, {'name': 'Netflix, Inc.', 'description': 'Subscription-based streaming service and production company.'}, {'name': 'Airbnb, Inc.', 'description': 'Online marketplace for lodging and tourism activities.'}, {'name': 'Uber Technologies, Inc.', 'description': 'Ride-hailing and food delivery company.'}, {'name': 'SpaceX', 'description': 'Aerospace manufacturer and space transportation company.'}, {'name': 'Twitter, Inc.', 'description': 'Microblogging and social networking service.'}, {'name': 'LinkedIn Corporation', 'description': 'Business and employment-oriented online service.'}, {'name': 'Palantir Technologies', 'description': 'Software company specializing in big data analytics.'}, {'name': 'Dropbox, Inc.', 'description': 'File hosting and cloud storage service.'}, {'name': 'Zoom Video Communications, Inc.', 'description': 'Video conferencing technology company.'}, {'name': 'Stripe, Inc.', 'description': 'Financial services and technology company.'}, {'name': 'Coinbase, Inc.', 'description': 'Cryptocurrency exchange and wallet service.'}, {'name': 'NVIDIA Corporation', 'description': 'Graphics processing units (GPUs) and system on a chip (SoC) units.'}, {'name': 'Intel Corporation', 'description': 'Semiconductor chip manufacturer.'}, {'name': 'Cisco Systems, Inc.', 'description': 'Networking hardware, telecommunications equipment, and cybersecurity.'}, {'name': 'JPMorgan Chase & Co.', 'description': 'Global financial services firm.'}, {'name': 'Goldman Sachs Group, Inc.', 'description': 'Investment banking, securities, and investment management firm.'}, {'name': 'Wells Fargo & Company', 'description': 'Diversified financial services company.'}, {'name': 'Bank of America Corporation', 'description': 'Financial services company.'}, {'name': 'Citigroup Inc.', 'description': 'Financial services and banking corporation.'}, {'name': 'Morgan Stanley', 'description': 'Global financial services firm.'}, {'name': 'Visa Inc.', 'description': 'Global payments technology company.'}, {'name': 'Mastercard Incorporated', 'description': 'Global payments and technology company.'}, {'name': 'American Express Company', 'description': 'Global payments, network, and travel services company.'}, {'name': 'PayPal Holdings, Inc.', 'description': 'Technology platform and digital payments company.'}, {'name': 'Charles Schwab Corporation', 'description': 'Brokerage and banking services.'}, {'name': 'Fidelity Investments', 'description': 'Financial services firm.'}, {'name': 'BlackRock, Inc.', 'description': 'Investment management corporation.'}, {'name': 'Vanguard Group, Inc.', 'description': 'Mutual fund and investment management company.'}, {'name': 'Blackstone Group L.P.', 'description': 'Alternative investment management firm.'}, {'name': 'KPMG LLP', 'description': 'Network of professional service firms providing audit, tax, and advisory services.'}, {'name': 'Deloitte Touche Tohmatsu Limited', 'description': 'Multinational professional services network.'}, {'name': 'PwC (PricewaterhouseCoopers)', 'description': 'Multinational professional services network.'}, {'name': 'EY (Ernst & Young)', 'description': 'Multinational professional services firm.'}, {'name': \"Moody's Corporation\", 'description': 'Credit rating, research, and risk analysis firm.'}, {'name': 'S&P Global', 'description': 'Provider of financial market intelligence, benchmarks, and analytics.'}, {'name': 'Walmart Inc.', 'description': 'Retail corporation operating a chain of hypermarkets, discount department stores, and grocery stores.'}, {'name': 'Target Corporation', 'description': 'Retail corporation operating general merchandise stores.'}, {'name': 'The Home Depot, Inc.', 'description': 'Home improvement supplies retailer.'}, {'name': 'The Kroger Co.', 'description': 'Retail grocery chain.'}, {'name': 'Costco Wholesale Corporation', 'description': 'Membership-based warehouse club retailer.'}, {'name': 'Best Buy Co., Inc.', 'description': 'Consumer electronics retailer.'}, {'name': \"Macy's, Inc.\", 'description': 'Department store chain.'}, {'name': 'Nordstrom, Inc.', 'description': 'Luxury department store chain.'}, {'name': 'Lululemon Athletica Inc.', 'description': 'Athletic apparel retailer.'}, {'name': 'Nike, Inc.', 'description': 'Sports footwear, apparel, and equipment manufacturer.'}, {'name': 'Adidas AG', 'description': 'Sports footwear, apparel, and accessories manufacturer.'}, {'name': 'H&M Hennes & Mauritz AB', 'description': 'Fast-fashion retailer.'}, {'name': 'Zara (Inditex Group)', 'description': 'Fast-fashion retailer.'}, {'name': 'Forever 21, Inc.', 'description': 'Fast-fashion retailer.'}, {'name': 'Urban Outfitters, Inc.', 'description': 'Retailer of clothing, footwear, and accessories.'}, {'name': 'Anthropologie (Urban Outfitters)', 'description': \"Women's clothing and accessories retailer.\"}, {'name': 'Free People (Urban Outfitters)', 'description': \"Women's clothing and accessories retailer.\"}, {'name': 'REI (Recreational Equipment, Inc.)', 'description': 'Cooperative outdoor recreation services and retail company.'}, {'name': \"Dick's Sporting Goods, Inc.\", 'description': 'Sports equipment and clothing retailer.'}, {'name': \"Lowe's Companies, Inc.\", 'description': 'Home improvement and hardware store.'}, {'name': 'Johnson & Johnson', 'description': 'Multinational corporation developing medical devices, pharmaceuticals, and consumer packaged goods.'}, {'name': 'Pfizer Inc.', 'description': 'Biopharmaceutical company.'}, {'name': 'Merck & Co., Inc.', 'description': 'Pharmaceutical company.'}, {'name': 'Abbott Laboratories', 'description': 'Healthcare company focused on medical devices and diagnostics.'}, {'name': 'Medtronic plc', 'description': 'Medical technology company.'}, {'name': 'Boston Scientific Corporation', 'description': 'Medical device manufacturer.'}, {'name': 'UnitedHealth Group Incorporated', 'description': 'Managed healthcare company.'}, {'name': 'CVS Health Corporation', 'description': 'Healthcare services company.'}, {'name': 'Walgreens Boots Alliance, Inc.', 'description': 'Retail pharmacy chain.'}, {'name': 'Cigna Corporation', 'description': 'Health services organization.'}, {'name': 'Aetna, Inc. (CVS Health)', 'description': 'Health insurance company.'}, {'name': 'Humana Inc.', 'description': 'Health insurance company.'}, {'name': 'Anthem, Inc.', 'description': 'Health insurance company.'}, {'name': 'Centene Corporation', 'description': 'Managed healthcare company.'}, {'name': 'Amgen Inc.', 'description': 'Biotechnology company.'}, {'name': 'Gilead Sciences, Inc.', 'description': 'Biopharmaceutical company.'}, {'name': 'Biogen Inc.', 'description': 'Biotechnology company.'}, {'name': 'Moderna, Inc.', 'description': 'Biotechnology company focused on mRNA vaccines and therapeutics.'}, {'name': 'Pfizer Inc.', 'description': 'Biopharmaceutical company.'}, {'name': 'Merck & Co., Inc.', 'description': 'Pharmaceutical company.'}, {'name': 'Abbott Laboratories', 'description': 'Healthcare company focused on medical devices and diagnostics.'}, {'name': 'Nestlé S.A.', 'description': 'Nutrition, health, and wellness company.'}, {'name': 'The Coca-Cola Company', 'description': 'Beverage company.'}, {'name': 'PepsiCo, Inc.', 'description': 'Food, snack, and beverage company.'}, {'name': 'Anheuser-Busch InBev SA/NV', 'description': 'Brewing company.'}, {'name': 'The Kraft Heinz Company', 'description': 'Food and beverage company.'}, {'name': 'General Mills, Inc.', 'description': 'Food manufacturing company.'}, {'name': ' Mondelez International, Inc.', 'description': 'Snack food and beverage company.'}, {'name': 'Danone S.A.', 'description': 'Food and beverage company.'}, {'name': 'Unilever', 'description': 'Consumer goods company.'}, {'name': 'Procter & Gamble Co.', 'description': 'Consumer goods company.'}, {'name': 'Mars, Incorporated', 'description': 'Confectionery, pet food, and other food products manufacturer.'}, {'name': 'Ferrara Candy Company', 'description': 'Confectionery manufacturer.'}, {'name': 'Hershey Company', 'description': 'Confectionery manufacturer.'}, {'name': 'Yum! Brands, Inc.', 'description': 'Fast food restaurant company.'}, {'name': \"McDonald's Corporation\", 'description': 'Fast food restaurant company.'}, {'name': 'Starbucks Corporation', 'description': 'Coffeehouse chain.'}, {'name': \"Dunkin' Brands Group, Inc.\", 'description': 'Coffee and donut chain.'}, {'name': \"Domino's Pizza, Inc.\", 'description': 'Pizza restaurant chain.'}, {'name': \"Papa John's International, Inc.\", 'description': 'Pizza restaurant chain.'}, {'name': 'Subway IP LLC', 'description': 'Fast food restaurant franchise.'}, {'name': 'Chipotle Mexican Grill, Inc.', 'description': 'Fast-casual restaurant chain.'}, {'name': 'Toyota Motor Corporation', 'description': 'Automotive manufacturer.'}, {'name': 'Volkswagen AG', 'description': 'Automotive manufacturer.'}, {'name': 'Ford Motor Company', 'description': 'Automotive manufacturer.'}, {'name': 'General Motors Company', 'description': 'Automotive manufacturer.'}, {'name': 'Tesla, Inc.', 'description': 'Electric vehicle manufacturer and clean energy company.'}, {'name': 'Daimler AG (Mercedes-Benz)', 'description': 'Automotive manufacturer.'}, {'name': 'BMW AG', 'description': 'Automotive manufacturer.'}, {'name': 'Audi AG (Volkswagen Group)', 'description': 'Automotive manufacturer.'}, {'name': 'Volvo Cars', 'description': 'Automotive manufacturer.'}, {'name': 'Honda Motor Co., Ltd.', 'description': 'Automotive manufacturer.'}, {'name': 'Nissan Motor Co., Ltd.', 'description': 'Automotive manufacturer.'}, {'name': 'Hyundai Motor Company', 'description': 'Automotive manufacturer.'}, {'name': 'Kia Motors Corporation', 'description': 'Automotive manufacturer.'}, {'name': 'Fiat Chrysler Automobiles N.V.', 'description': 'Automotive manufacturer.'}, {'name': 'Renault S.A.', 'description': 'Automotive manufacturer.'}, {'name': 'PSA Group (Stellantis)', 'description': 'Automotive manufacturer.'}, {'name': 'Mazda Motor Corporation', 'description': 'Automotive manufacturer.'}, {'name': 'Subaru Corporation', 'description': 'Automotive manufacturer.'}, {'name': 'Suzuki Motor Corporation', 'description': 'Automotive manufacturer.'}, {'name': 'Mitsubishi Motors Corporation', 'description': 'Automotive manufacturer.'}, {'name': 'The Boeing Company', 'description': 'Aerospace and defense company.'}, {'name': 'Lockheed Martin Corporation', 'description': 'Aerospace, defense, security, and advanced technologies company.'}, {'name': 'Northrop Grumman Corporation', 'description': 'Aerospace and defense technology company.'}, {'name': 'Raytheon Technologies Corporation', 'description': 'Aerospace and defense company.'}, {'name': 'General Dynamics Corporation', 'description': 'Aerospace and defense company.'}, {'name': 'BAE Systems plc', 'description': 'Aerospace, defense, and security company.'}, {'name': 'Airbus SE', 'description': 'Aerospace and defense company.'}, {'name': 'Safran', 'description': 'Aerospace, defense, and security company.'}, {'name': 'Leonardo S.p.A.', 'description': 'Aerospace, defense, and security company.'}, {'name': 'United Technologies Corporation (Raytheon Technologies)', 'description': 'Aerospace and defense company.'}, {'name': 'Honeywell International Inc.', 'description': 'Diversified technology and manufacturing company.'}, {'name': 'UTC Aerospace Systems (Collins Aerospace, Raytheon Technologies)', 'description': 'Aerospace systems and services company.'}, {'name': 'Rockwell Collins, Inc. (Collins Aerospace, Raytheon Technologies)', 'description': 'Aerospace and defense company.'}, {'name': 'L3Harris Technologies, Inc.', 'description': 'Aerospace, defense, and technology company.'}, {'name': 'Spirit AeroSystems Holdings, Inc.', 'description': 'Aerospace company.'}, {'name': 'UTC Propulsion & Aerospace Systems (Raytheon Technologies)', 'description': 'Aerospace propulsion and systems company.'}, {'name': 'UTC Climate, Controls & Security (Carrier, UTC)', 'description': 'HVAC, refrigeration, and security systems company.'}, {'name': 'UTC Building & Industrial Systems (UTC)', 'description': 'Building and industrial systems company.'}, {'name': 'UTC Aerospace Systems (Collins Aerospace, Raytheon Technologies)', 'description': 'Aerospace systems and services company.'}, {'name': 'UTC Fire & Security (UTC)', 'description': 'Fire and security systems company.'}, {'name': 'UTC Power (UTC)', 'description': 'Power generation and aerospace propulsion company.'}, {'name': 'Exxon Mobil Corporation', 'description': 'Oil and gas company.'}, {'name': 'Chevron Corporation', 'description': 'Oil and gas company.'}, {'name': 'ConocoPhillips', 'description': 'Oil and gas company.'}, {'name': 'Royal Dutch Shell plc', 'description': 'Oil and gas company.'}, {'name': 'BP p.l.c.', 'description': 'Oil and gas company.'}, {'name': 'Total SE', 'description': 'Oil and gas company.'}, {'name': 'Eni S.p.A.', 'description': 'Energy company.'}, {'name': 'Equinor ASA', 'description': 'Energy company.'}, {'name': 'PG&E Corporation', 'description': 'Investor-owned utility.'}, {'name': 'Southern Company', 'description': 'Electric utility company.'}, {'name': 'NextEra Energy, Inc.', 'description': 'Electric utility company.'}, {'name': 'Duke Energy Corporation', 'description': 'Electric utility company.'}, {'name': 'Dominion Energy, Inc.', 'description': 'Electric utility company.'}, {'name': 'Xcel Energy Inc.', 'description': 'Electric and natural gas company.'}, {'name': 'National Grid plc', 'description': 'Electricity and gas utility company.'}, {'name': 'Enel S.p.A.', 'description': 'Electric utility company.'}, {'name': 'EDF (Électricité de France)', 'description': 'Electric utility company.'}, {'name': 'Engie', 'description': 'Energy and services company.'}, {'name': 'E.ON SE', 'description': 'Electric utility company.'}, {'name': 'RWE AG', 'description': 'Electric utility company.'}, {'name': 'Walt Disney Company', 'description': 'Entertainment and real estate company.'}, {'name': 'Simon Property Group', 'description': 'Real estate investment trust (REIT).'}, {'name': 'Brookfield Property Partners L.P.', 'description': 'Real estate investment company.'}, {'name': 'Prologis, Inc.', 'description': 'Industrial real estate company.'}, {'name': 'Equity Residential', 'description': 'Apartment REIT.'}, {'name': 'Public Storage', 'description': 'Self-storage REIT.'}, {'name': 'American Tower Corporation', 'description': 'Real estate investment trust (REIT).'}, {'name': 'Cellnex Telecom', 'description': 'Telecommunications infrastructure company.'}, {'name': 'Crown Castle Inc.', 'description': 'Fiber and wireless infrastructure company.'}, {'name': 'DigitalBridge Group, Inc.', 'description': 'Digital infrastructure company.'}, {'name': 'American Homes 4 Rent', 'description': 'Single-family home rental company.'}, {'name': 'Invitation Homes, Inc.', 'description': 'Single-family home rental company.'}, {'name': 'Toll Brothers, Inc.', 'description': 'Home construction company.'}, {'name': 'Lennar Corporation', 'description': 'Home construction company.'}, {'name': 'D.R. Horton, Inc.', 'description': 'Home construction company.'}, {'name': 'PulteGroup, Inc.', 'description': 'Home construction company.'}, {'name': 'KB Home', 'description': 'Home construction company.'}, {'name': 'Taylor Morrison Home Corporation', 'description': 'Home construction company.'}, {'name': 'Merrill Lynch (Bank of America)', 'description': 'Investment banking and financial services.'}, {'name': 'Morgan Stanley', 'description': 'Global financial services firm.'}, {'name': 'Goldman Sachs Group, Inc.', 'description': 'Investment banking, securities, and investment management firm.'}, {'name': 'Marriott International, Inc.', 'description': 'Hospitality company.'}, {'name': 'Hilton Worldwide Holdings Inc.', 'description': 'Hospitality company.'}, {'name': 'InterContinental Hotels Group plc', 'description': 'Hospitality company.'}, {'name': 'Airbnb, Inc.', 'description': 'Online marketplace for lodging and tourism activities.'}, {'name': 'Booking Holdings Inc.', 'description': 'Online travel and related services company.'}, {'name': 'Expedia Group, Inc.', 'description': 'Online travel company.'}, {'name': 'TripAdvisor, Inc.', 'description': 'Travel planning and booking platform.'}, {'name': 'Delta Air Lines, Inc.', 'description': 'Airline.'}, {'name': 'American Airlines Group Inc.', 'description': 'Airline.'}, {'name': 'Southwest Airlines Co.', 'description': 'Airline.'}, {'name': 'United Airlines Holdings, Inc.', 'description': 'Airline.'}, {'name': 'International Consolidated Airlines Group, S.A. (IAG)', 'description': 'Airline holding company.'}, {'name': 'Lufthansa AG', 'description': 'Airline.'}, {'name': 'Air France-KLM', 'description': 'Airline holding company.'}, {'name': 'Singapore Airlines Limited', 'description': 'Airline.'}, {'name': 'Qatar Airways Group Q.C.S.C.', 'description': 'Airline.'}, {'name': 'Carnival Corporation & plc', 'description': 'Cruise operator.'}, {'name': 'Royal Caribbean Cruises Ltd.', 'description': 'Cruise operator.'}, {'name': 'Norwegian Cruise Line Holdings Ltd.', 'description': 'Cruise operator.'}, {'name': 'Booking.com (Booking Holdings)', 'description': 'Online travel booking platform.'}, {'name': 'Agoda Company Pte. Ltd. (Booking Holdings)', 'description': 'Online travel booking platform.'}, {'name': 'The Walt Disney Company', 'description': 'Entertainment and media company.'}, {'name': 'Netflix, Inc.', 'description': 'Subscription-based streaming service and production company.'}, {'name': 'Comcast Corporation', 'description': 'Media and technology company.'}, {'name': 'AT&T Inc.', 'description': 'Telecommunications, media, and technology company.'}, {'name': 'ViacomCBS Inc.', 'description': 'Media and entertainment company.'}, {'name': 'WarnerMedia (AT&T)', 'description': 'Media and entertainment company.'}, {'name': 'NBCUniversal (Comcast)', 'description': 'Media and entertainment company.'}, {'name': 'The New York Times Company', 'description': 'News and media company.'}, {'name': 'The Washington Post (Jeff Bezos)', 'description': 'News and media company.'}, {'name': 'Bloomberg L.P.', 'description': 'Media, data, and financial services company.'}, {'name': 'Reed Elsevier plc (RELX Group)', 'description': 'Information and analytics provider.'}, {'name': 'News Corp', 'description': 'Media and information services company.'}, {'name': '21st Century Fox (The Walt Disney Company)', 'description': 'Media and entertainment company.'}, {'name': 'Time Warner (AT&T)', 'description': 'Media and entertainment company.'}, {'name': 'Paramount Global (ViacomCBS)', 'description': 'Media and entertainment company.'}, {'name': 'AMC Networks Inc.', 'description': 'Entertainment company.'}, {'name': 'Discovery, Inc.', 'description': 'Media and entertainment company.'}, {'name': 'Lions Gate Entertainment Corp.', 'description': 'Entertainment company.'}, {'name': 'Sony Pictures Entertainment (Sony)', 'description': 'Entertainment company.'}, {'name': 'Universal Pictures (NBCUniversal, Comcast)', 'description': 'Entertainment company.'}, {'name': 'Amazon.com Inc.', 'description': 'E-commerce and cloud computing company.'}, {'name': 'eBay Inc.', 'description': 'E-commerce marketplace.'}, {'name': 'Alibaba Group Holding Limited', 'description': 'E-commerce and technology company.'}, {'name': 'JD.com, Inc.', 'description': 'E-commerce company.'}, {'name': 'Pinduoduo Inc.', 'description': 'E-commerce company.'}, {'name': 'Shopify Inc.', 'description': 'E-commerce platform provider.'}, {'name': 'Etsy, Inc.', 'description': 'E-commerce marketplace for handmade and vintage items.'}, {'name': 'Wayfair Inc.', 'description': 'E-commerce company focused on home goods.'}, {'name': 'Zappos.com, Inc. (Amazon)', 'description': 'Online shoe and clothing retailer.'}, {'name': 'Overstock.com, Inc.', 'description': 'E-commerce retailer.'}, {'name': 'Walmart Inc.', 'description': 'Retail corporation operating a chain of hypermarkets, discount department stores, and grocery stores.'}, {'name': 'Target Corporation', 'description': 'Retail corporation operating general merchandise stores.'}, {'name': 'Best Buy Co., Inc.', 'description': 'Consumer electronics retailer.'}, {'name': \"Macy's, Inc.\", 'description': 'Department store chain.'}, {'name': \"Kohl's Corporation\", 'description': 'Department store chain.'}, {'name': 'Nordstrom, Inc.', 'description': 'Luxury department store chain.'}, {'name': 'Lululemon Athletica Inc.', 'description': 'Athletic apparel retailer.'}, {'name': 'Nike, Inc.', 'description': 'Sports footwear, apparel, and equipment manufacturer.'}, {'name': 'Adidas AG', 'description': 'Sports footwear, apparel, and accessories manufacturer.'}, {'name': 'H&M Hennes & Mauritz AB', 'description': 'Fast-fashion retailer.'}, {'name': 'AT&T Inc.', 'description': 'Telecommunications, media, and technology company.'}, {'name': 'Verizon Communications Inc.', 'description': 'Telecommunications company.'}, {'name': 'T-Mobile US, Inc.', 'description': 'Telecommunications company.'}, {'name': 'Comcast Corporation', 'description': 'Media and technology company.'}, {'name': 'Charter Communications, Inc.', 'description': 'Telecommunications company.'}, {'name': 'Altice USA, Inc.', 'description': 'Telecommunications company.'}, {'name': 'Cox Communications, Inc.', 'description': 'Telecommunications company.'}, {'name': 'Sprint Corporation (T-Mobile)', 'description': 'Telecommunications company.'}, {'name': 'BT Group plc', 'description': 'Telecommunications company.'}, {'name': 'Deutsche Telekom AG', 'description': 'Telecommunications company.'}, {'name': 'Orange S.A.', 'description': 'Telecommunications company.'}, {'name': 'Telefónica, S.A.', 'description': 'Telecommunications company.'}, {'name': 'Vodafone Group plc', 'description': 'Telecommunications company.'}, {'name': 'China Mobile Limited', 'description': 'Telecommunications company.'}, {'name': 'China Telecom Corporation Limited', 'description': 'Telecommunications company.'}, {'name': 'China Unicom (Hong Kong) Limited', 'description': 'Telecommunications company.'}, {'name': 'NTT Corporation', 'description': 'Telecommunications company.'}, {'name': 'KDDI Corporation', 'description': 'Telecommunications company.'}, {'name': 'SoftBank Group Corp.', 'description': 'Telecommunications and technology holding company.'}, {'name': 'Telia Company AB', 'description': 'Telecommunications company.'}, {'name': 'Procter & Gamble Co.', 'description': 'Consumer goods company.'}, {'name': 'Unilever', 'description': 'Consumer goods company.'}, {'name': 'The Estee Lauder Companies Inc.', 'description': 'Beauty company.'}, {'name': \"L'Oréal S.A.\", 'description': 'Beauty company.'}, {'name': 'Nestlé S.A.', 'description': 'Nutrition, health, and wellness company.'}, {'name': 'Danone S.A.', 'description': 'Food and beverage company.'}, {'name': ' Mondelez International, Inc.', 'description': 'Snack food and beverage company.'}, {'name': 'Kraft Heinz Company', 'description': 'Food and beverage company.'}, {'name': 'General Mills, Inc.', 'description': 'Food manufacturing company.'}, {'name': 'Mars, Incorporated', 'description': 'Confectionery, pet food, and other food products manufacturer.'}, {'name': 'Ferrara Candy Company', 'description': 'Confectionery manufacturer.'}, {'name': 'Hershey Company', 'description': 'Confectionery manufacturer.'}, {'name': 'Reckitt Benckiser Group plc', 'description': 'Consumer goods company.'}, {'name': 'Kimberly-Clark Corporation', 'description': 'Consumer goods company.'}, {'name': 'Colgate-Palmolive Company', 'description': 'Consumer goods company.'}, {'name': 'Clorox Company (The)', 'description': 'Consumer products company.'}, {'name': 'Church & Dwight Co., Inc.', 'description': 'Consumer goods company.'}, {'name': 'Edgewell Personal Care Company', 'description': 'Consumer goods company.'}, {'name': 'Bayer AG', 'description': 'Life science company.'}, {'name': 'BASF SE', 'description': 'Chemical company.'}, {'name': 'Johnson & Johnson', 'description': 'Multinational corporation developing medical devices, pharmaceuticals, and consumer packaged goods.'}, {'name': 'Abbott Laboratories', 'description': 'Healthcare company focused on medical devices and diagnostics.'}, {'name': 'Medtronic plc', 'description': 'Medical technology company.'}, {'name': 'Boston Scientific Corporation', 'description': 'Medical device manufacturer.'}, {'name': 'Amgen Inc.', 'description': 'Biotechnology company.'}, {'name': 'Gilead Sciences, Inc.', 'description': 'Biopharmaceutical company.'}, {'name': 'Biogen Inc.', 'description': 'Biotechnology company.'}, {'name': 'Moderna, Inc.', 'description': 'Biotechnology company focused on mRNA vaccines and therapeutics.'}, {'name': 'Pfizer Inc.', 'description': 'Biopharmaceutical company.'}, {'name': 'Merck & Co., Inc.', 'description': 'Pharmaceutical company.'}, {'name': 'Novartis AG', 'description': 'Pharmaceutical company.'}, {'name': 'Roche Holding AG', 'description': 'Pharmaceutical and diagnostics company.'}, {'name': 'Sanofi', 'description': 'Pharmaceutical company.'}, {'name': 'Pfizer Inc.', 'description': 'Biopharmaceutical company.'}, {'name': 'Merck & Co., Inc.', 'description': 'Pharmaceutical company.'}, {'name': 'Abbott Laboratories', 'description': 'Healthcare company focused on medical devices and diagnostics.'}, {'name': 'Medtronic plc', 'description': 'Medical technology company.'}, {'name': 'Boston Scientific Corporation', 'description': 'Medical device manufacturer.'}, {'name': 'Amgen Inc.', 'description': 'Biotechnology company.'}, {'name': 'Gilead Sciences, Inc.', 'description': 'Biopharmaceutical company.'}, {'name': 'Nike, Inc.', 'description': 'Sports footwear, apparel, and equipment manufacturer.'}, {'name': 'Adidas AG', 'description': 'Sports footwear, apparel, and accessories manufacturer.'}, {'name': 'Under Armour, Inc.', 'description': 'Sports apparel and footwear company.'}, {'name': 'Lululemon Athletica Inc.', 'description': 'Athletic apparel retailer.'}, {'name': \"Dick's Sporting Goods, Inc.\", 'description': 'Sports equipment and clothing retailer.'}, {'name': 'REI (Recreational Equipment, Inc.)', 'description': 'Cooperative outdoor recreation services and retail company.'}, {'name': 'The North Face, Inc. (VF Corporation)', 'description': 'Outdoor recreation and athletic clothing retailer.'}, {'name': 'Patagonia, Inc.', 'description': 'Outdoor clothing and gear retailer.'}, {'name': 'Yeti Holdings, Inc.', 'description': 'Outdoor and recreation products company.'}, {'name': 'Peloton Interactive, Inc.', 'description': 'Fitness equipment and streaming company.'}, {'name': 'SoulCycle, LLC', 'description': 'Indoor cycling studio.'}, {'name': 'Equinox Holdings, Inc.', 'description': 'Luxury fitness club operator.'}, {'name': 'Life Time, Inc.', 'description': 'Premium fitness, wellness, and lifestyle brand.'}, {'name': 'Planet Fitness, Inc.', 'description': 'Fitness club operator.'}, {'name': '24 Hour Fitness USA, Inc.', 'description': 'Fitness club operator.'}, {'name': 'Anytime Fitness, LLC', 'description': 'Fitness club franchise.'}, {'name': \"Gold's Gym International, Inc.\", 'description': 'Fitness club franchise.'}, {'name': 'YogaWorks, LLC', 'description': 'Yoga studio operator.'}, {'name': 'CorePower Yoga, LLC', 'description': 'Yoga studio operator.'}, {'name': \"Barry's Bootcamp, LLC\", 'description': 'Fitness studio operator.'}, {'name': 'Pearson plc', 'description': 'Education and publishing company.'}, {'name': 'McGraw-Hill Education', 'description': 'Education and learning company.'}, {'name': 'Cengage Learning', 'description': 'Education and learning company.'}, {'name': 'Houghton Mifflin Harcourt', 'description': 'Education and learning company.'}, {'name': 'K12 Inc.', 'description': 'Online learning and education company.'}, {'name': 'Bridgepoint Education, Inc.', 'description': 'Online education company.'}, {'name': 'Grand Canyon Education, Inc.', 'description': 'Education services company.'}, {'name': 'University of Phoenix (Apollo Education Group)', 'description': 'Online university.'}, {'name': 'Kaplan, Inc. (Gravitas Education)', 'description': 'Education and test preparation company.'}, {'name': 'Princeton Review (The)', 'description': 'Education and test preparation company.'}, {'name': 'VIPKid', 'description': 'Online education platform for English language learning.'}, {'name': 'Chegg, Inc.', 'description': 'Education technology and online textbook rental company.'}, {'name': 'Course Hero, Inc.', 'description': 'Online learning platform.'}, {'name': 'Udemy, Inc.', 'description': 'Online learning marketplace.'}, {'name': 'Coursera, Inc.', 'description': 'Online learning platform.'}, {'name': 'edX, Inc.', 'description': 'Online learning platform.'}, {'name': 'LinkedIn Learning (Lynda.com)', 'description': 'Online learning platform.'}, {'name': 'Pluralsight, Inc.', 'description': 'Online learning platform for technology professionals.'}, {'name': 'Udacity, Inc.', 'description': 'Online learning platform for technology skills.'}, {'name': 'General Assembly (Purdue University)', 'description': 'Education and training provider.'}, {'name': 'Walt Disney Company', 'description': 'Entertainment and real estate company.'}, {'name': 'Simon Property Group', 'description': 'Real estate investment trust (REIT).'}, {'name': 'Brookfield Property Partners L.P.', 'description': 'Real estate investment company.'}, {'name': 'Prologis, Inc.', 'description': 'Industrial real estate company.'}, {'name': 'Equity Residential', 'description': 'Apartment REIT.'}, {'name': 'Public Storage', 'description': 'Self-storage REIT.'}, {'name': 'American Tower Corporation', 'description': 'Real estate investment trust (REIT).'}, {'name': 'Cellnex Telecom', 'description': 'Telecommunications infrastructure company.'}, {'name': 'Crown Castle Inc.', 'description': 'Fiber and wireless infrastructure company.'}, {'name': 'DigitalBridge Group, Inc.', 'description': 'Digital infrastructure company.'}, {'name': 'American Homes 4 Rent', 'description': 'Single-family home rental company.'}, {'name': 'Invitation Homes, Inc.', 'description': 'Single-family home rental company.'}, {'name': 'Toll Brothers, Inc.', 'description': 'Home construction company.'}, {'name': 'Lennar Corporation', 'description': 'Home construction company.'}, {'name': 'D.R. Horton, Inc.', 'description': 'Home construction company.'}, {'name': 'PulteGroup, Inc.', 'description': 'Home construction company.'}, {'name': 'KB Home', 'description': 'Home construction company.'}, {'name': 'Taylor Morrison Home Corporation', 'description': 'Home construction company.'}, {'name': 'Merrill Lynch (Bank of America)', 'description': 'Investment banking and financial services.'}, {'name': 'Morgan Stanley', 'description': 'Global financial services firm.'}, {'name': 'Nestlé S.A.', 'description': 'Nutrition, health, and wellness company.'}, {'name': 'The Coca-Cola Company', 'description': 'Beverage company.'}, {'name': 'PepsiCo, Inc.', 'description': 'Food, snack, and beverage company.'}, {'name': 'Anheuser-Busch InBev SA/NV', 'description': 'Brewing company.'}, {'name': 'The Kraft Heinz Company', 'description': 'Food and beverage company.'}, {'name': 'General Mills, Inc.', 'description': 'Food manufacturing company.'}, {'name': ' Mondelez International, Inc.', 'description': 'Snack food and beverage company.'}, {'name': 'Danone S.A.', 'description': 'Food and beverage company.'}, {'name': 'Unilever', 'description': 'Consumer goods company.'}, {'name': 'Procter & Gamble Co.', 'description': 'Consumer goods company.'}, {'name': 'Mars, Incorporated', 'description': 'Confectionery, pet food, and other food products manufacturer.'}, {'name': 'Ferrara Candy Company', 'description': 'Confectionery manufacturer.'}, {'name': 'Hershey Company', 'description': 'Confectionery manufacturer.'}, {'name': 'Yum! Brands, Inc.', 'description': 'Fast food restaurant company.'}, {'name': \"McDonald's Corporation\", 'description': 'Fast food restaurant company.'}, {'name': 'Starbucks Corporation', 'description': 'Coffeehouse chain.'}, {'name': \"Dunkin' Brands Group, Inc.\", 'description': 'Coffee and donut chain.'}, {'name': \"Domino's Pizza, Inc.\", 'description': 'Pizza restaurant chain.'}, {'name': \"Papa John's International, Inc.\", 'description': 'Pizza restaurant chain.'}, {'name': 'Subway IP LLC', 'description': 'Fast food restaurant franchise.'}, {'name': 'The Boeing Company', 'description': 'Aerospace and defense company.'}, {'name': 'Lockheed Martin Corporation', 'description': 'Aerospace, defense, security, and advanced technologies company.'}, {'name': 'Northrop Grumman Corporation', 'description': 'Aerospace and defense technology company.'}, {'name': 'Raytheon Technologies Corporation', 'description': 'Aerospace and defense company.'}, {'name': 'General Dynamics Corporation', 'description': 'Aerospace and defense company.'}, {'name': 'BAE Systems plc', 'description': 'Aerospace, defense, and security company.'}, {'name': 'Airbus SE', 'description': 'Aerospace and defense company.'}, {'name': 'Safran', 'description': 'Aerospace, defense, and security company.'}, {'name': 'Leonardo S.p.A.', 'description': 'Aerospace, defense, and security company.'}, {'name': 'United Technologies Corporation (Raytheon Technologies)', 'description': 'Aerospace and defense company.'}, {'name': 'Honeywell International Inc.', 'description': 'Diversified technology and manufacturing company.'}, {'name': 'UTC Aerospace Systems (Collins Aerospace, Raytheon Technologies)', 'description': 'Aerospace systems and services company.'}, {'name': 'Rockwell Collins, Inc. (Collins Aerospace, Raytheon Technologies)', 'description': 'Aerospace and defense company.'}, {'name': 'L3Harris Technologies, Inc.', 'description': 'Aerospace, defense, and technology company.'}, {'name': 'Spirit AeroSystems Holdings, Inc.', 'description': 'Aerospace company.'}, {'name': 'UTC Propulsion & Aerospace Systems (Raytheon Technologies)', 'description': 'Aerospace propulsion and systems company.'}, {'name': 'UTC Climate, Controls & Security (UTC)', 'description': 'HVAC, refrigeration, and security systems company.'}, {'name': 'UTC Building & Industrial Systems (UTC)', 'description': 'Building and industrial systems company.'}, {'name': 'UTC Aerospace Systems (Collins Aerospace, Raytheon Technologies)', 'description': 'Aerospace systems and services company.'}, {'name': 'UTC Fire & Security (UTC)', 'description': 'Fire and security systems company.'}, {'name': 'UTC Power (UTC)', 'description': 'Power generation and aerospace propulsion company.'}, {'name': 'Exxon Mobil Corporation', 'description': 'Oil and gas company.'}, {'name': 'Chevron Corporation', 'description': 'Oil and gas company.'}, {'name': 'ConocoPhillips', 'description': 'Oil and gas company.'}, {'name': 'Royal Dutch Shell plc', 'description': 'Oil and gas company.'}, {'name': 'BP p.l.c.', 'description': 'Oil and gas company.'}, {'name': 'Total SE', 'description': 'Oil and gas company.'}, {'name': 'Eni S.p.A.', 'description': 'Energy company.'}, {'name': 'Equinor ASA', 'description': 'Energy company.'}, {'name': 'PG&E Corporation', 'description': 'Investor-owned utility.'}, {'name': 'Southern Company', 'description': 'Electric utility company.'}, {'name': 'NextEra Energy, Inc.', 'description': 'Electric utility company.'}, {'name': 'Duke Energy Corporation', 'description': 'Electric utility company.'}, {'name': 'Dominion Energy, Inc.', 'description': 'Electric utility company.'}, {'name': 'Xcel Energy Inc.', 'description': 'Electric and natural gas company.'}, {'name': 'National Grid plc', 'description': 'Electricity and gas utility company.'}, {'name': 'Enel S.p.A.', 'description': 'Electric utility company.'}, {'name': 'EDF (Électricité de France)', 'description': 'Electric utility company.'}, {'name': 'Engie', 'description': 'Energy and services company.'}, {'name': 'E.ON SE', 'description': 'Electric utility company.'}, {'name': 'RWE AG', 'description': 'Electric utility company.'}, {'name': 'CVS Health Corporation', 'description': 'Healthcare services company.'}, {'name': 'Walgreens Boots Alliance, Inc.', 'description': 'Retail pharmacy chain.'}, {'name': 'Cigna Corporation', 'description': 'Health services organization.'}, {'name': 'Aetna, Inc. (CVS Health)', 'description': 'Health insurance company.'}, {'name': 'Humana Inc.', 'description': 'Health insurance company.'}, {'name': 'Anthem, Inc.', 'description': 'Health insurance company.'}, {'name': 'Centene Corporation', 'description': 'Managed healthcare company.'}, {'name': 'Amgen Inc.', 'description': 'Biotechnology company.'}, {'name': 'Gilead Sciences, Inc.', 'description': 'Biopharmaceutical company.'}, {'name': 'Biogen Inc.', 'description': 'Biotechnology company.'}, {'name': 'Moderna, Inc.', 'description': 'Biotechnology company focused on mRNA vaccines and therapeutics.'}, {'name': 'Pfizer Inc.', 'description': 'Biopharmaceutical company.'}, {'name': 'Merck & Co., Inc.', 'description': 'Pharmaceutical company.'}, {'name': 'Abbott Laboratories', 'description': 'Healthcare company focused on medical devices and diagnostics.'}, {'name': 'Medtronic plc', 'description': 'Medical technology company.'}, {'name': 'Boston Scientific Corporation', 'description': 'Medical device manufacturer.'}, {'name': 'Becton, Dickinson and Company', 'description': 'Medical technology company.'}, {'name': 'Stryker Corporation', 'description': 'Medical device manufacturer.'}, {'name': 'Zimmer Biomet Holdings, Inc.', 'description': 'Orthopedic device manufacturer.'}, {'name': 'Baxter International Inc.', 'description': 'Medical products and services company.'}, {'name': 'UPS (United Parcel Service, Inc.)', 'description': 'Package delivery and supply chain management company.'}, {'name': 'FedEx Corporation', 'description': 'Package delivery and logistics company.'}, {'name': 'DHL (Deutsche Post DHL Group)', 'description': 'Logistics and courier company.'}, {'name': 'XPO Logistics, Inc.', 'description': 'Logistics and transportation company.'}, {'name': 'J.B. Hunt Transport Services, Inc.', 'description': 'Transportation and logistics company.'}, {'name': 'Knight-Swift Transportation Holdings Inc.', 'description': 'Transportation and logistics company.'}, {'name': 'C.H. Robinson Worldwide, Inc.', 'description': 'Third-party logistics (3PL) and supply chain management company.'}, {'name': 'Expeditors International of Washington, Inc.', 'description': 'Freight forwarding and logistics company.'}, {'name': 'Maersk (A.P. Moller - Maersk A/S)', 'description': 'Container shipping and logistics company.'}, {'name': 'CMA CGM Group', 'description': 'Container shipping and logistics company.'}, {'name': 'MSC Mediterranean Shipping Company S.A.', 'description': 'Container shipping company.'}, {'name': 'Cosco Corporation', 'description': 'Container shipping company.'}, {'name': 'Yang Ming Marine Transport Corporation', 'description': 'Container shipping company.'}, {'name': 'Ocean Network Express (ONE)', 'description': 'Container shipping company.'}, {'name': 'Hapag-Lloyd AG', 'description': 'Container shipping company.'}, {'name': 'Yang Ming Marine Transport Corporation', 'description': 'Container shipping company.'}, {'name': 'COSCO Shipping (China Ocean Shipping (Group) Company)', 'description': 'Container shipping company.'}, {'name': 'Ocean Network Express (ONE)', 'description': 'Container shipping company.'}, {'name': 'Hapag-Lloyd AG', 'description': 'Container shipping company.'}, {'name': 'Apple Inc.', 'description': 'Consumer electronics and software company.'}, {'name': 'Microsoft Corporation', 'description': 'Software development, manufacturing, and licensing.'}, {'name': 'Alphabet Inc.', 'description': 'Technology company focused on Internet-related services and products.'}, {'name': 'Amazon.com Inc.', 'description': 'E-commerce and cloud computing company.'}, {'name': 'Facebook, Inc.', 'description': 'Social media and technology company.'}, {'name': 'Tencent Holdings Limited', 'description': 'Internet-related services, products, and technology company.'}, {'name': 'Baidu, Inc.', 'description': 'Internet-related services and technology company.'}, {'name': 'Netflix, Inc.', 'description': 'Subscription-based streaming service and production company.'}, {'name': 'Airbnb, Inc.', 'description': 'Online marketplace for lodging and tourism activities.'}, {'name': 'Uber Technologies, Inc.', 'description': 'Ride-hailing and food delivery company.'}, {'name': 'SpaceX', 'description': 'Aerospace manufacturer and space transportation company.'}, {'name': 'Twitter, Inc.', 'description': 'Microblogging and social networking service.'}, {'name': 'LinkedIn Corporation', 'description': 'Business and employment-oriented online service.'}, {'name': 'Palantir Technologies', 'description': 'Software company specializing in big data analytics.'}, {'name': 'Dropbox, Inc.', 'description': 'File hosting and cloud storage service.'}, {'name': 'Zoom Video Communications, Inc.', 'description': 'Video conferencing technology company.'}, {'name': 'Stripe, Inc.', 'description': 'Financial services and technology company.'}, {'name': 'Coinbase, Inc.', 'description': 'Cryptocurrency exchange and wallet service.'}, {'name': 'NVIDIA Corporation', 'description': 'Graphics processing units (GPUs) and system on a chip (SoC) units.'}, {'name': 'Intel Corporation', 'description': 'Semiconductor chip manufacturer.'}, {'name': 'Cisco Systems, Inc.', 'description': 'Networking hardware, telecommunications equipment, and cybersecurity.'}, {'name': 'Walmart Inc.', 'description': 'Retail corporation operating a chain of hypermarkets, discount department stores, and grocery stores.'}, {'name': 'Target Corporation', 'description': 'Retail corporation operating general merchandise stores.'}, {'name': 'The Home Depot, Inc.', 'description': 'Home improvement supplies retailer.'}, {'name': 'The Kroger Co.', 'description': 'Retail grocery chain.'}, {'name': 'Costco Wholesale Corporation', 'description': 'Membership-based warehouse club retailer.'}, {'name': 'Best Buy Co., Inc.', 'description': 'Consumer electronics retailer.'}, {'name': \"Macy's, Inc.\", 'description': 'Department store chain.'}, {'name': 'Nordstrom, Inc.', 'description': 'Luxury department store chain.'}, {'name': 'Lululemon Athletica Inc.', 'description': 'Athletic apparel retailer.'}, {'name': 'Nike, Inc.', 'description': 'Sports footwear, apparel, and equipment manufacturer.'}, {'name': 'Adidas AG', 'description': 'Sports footwear, apparel, and accessories manufacturer.'}, {'name': 'H&M Hennes & Mauritz AB', 'description': 'Fast-fashion retailer.'}, {'name': 'Zara (Inditex Group)', 'description': 'Fast-fashion retailer.'}, {'name': 'Forever 21, Inc.', 'description': 'Fast-fashion retailer.'}, {'name': 'Urban Outfitters, Inc.', 'description': 'Retailer of clothing, footwear, and accessories.'}, {'name': 'Anthropologie (Urban Outfitters)', 'description': \"Women's clothing and accessories retailer.\"}, {'name': 'Free People (Urban Outfitters)', 'description': \"Women's clothing and accessories retailer.\"}, {'name': 'REI (Recreational Equipment, Inc.)', 'description': 'Cooperative outdoor recreation services and retail company.'}, {'name': \"Dick's Sporting Goods, Inc.\", 'description': 'Sports equipment and clothing retailer.'}, {'name': 'JPMorgan Chase & Co.', 'description': 'Global financial services firm.'}, {'name': 'Goldman Sachs Group, Inc.', 'description': 'Investment banking, securities, and investment management firm.'}, {'name': 'Wells Fargo & Company', 'description': 'Diversified financial services company.'}, {'name': 'Bank of America Corporation', 'description': 'Financial services company.'}, {'name': 'Citigroup Inc.', 'description': 'Financial services and banking corporation.'}, {'name': 'Morgan Stanley', 'description': 'Global financial services firm.'}, {'name': 'Visa Inc.', 'description': 'Global payments technology company.'}, {'name': 'Mastercard Incorporated', 'description': 'Global payments and technology company.'}, {'name': 'American Express Company', 'description': 'Global payments, network, and travel services company.'}, {'name': 'PayPal Holdings, Inc.', 'description': 'Technology platform and digital payments company.'}, {'name': 'Charles Schwab Corporation', 'description': 'Brokerage and banking services.'}, {'name': 'Fidelity Investments', 'description': 'Financial services firm.'}, {'name': 'BlackRock, Inc.', 'description': 'Investment management corporation.'}, {'name': 'Vanguard Group, Inc.', 'description': 'Mutual fund and investment management company.'}, {'name': 'Blackstone Group L.P.', 'description': 'Alternative investment management firm.'}, {'name': 'KPMG LLP', 'description': 'Network of professional service firms providing audit, tax, and advisory services.'}, {'name': 'Deloitte Touche Tohmatsu Limited', 'description': 'Multinational professional services network.'}, {'name': 'PwC (PricewaterhouseCoopers)', 'description': 'Multinational professional services network.'}, {'name': 'EY (Ernst & Young)', 'description': 'Multinational professional services firm.'}, {'name': \"Moody's Corporation\", 'description': 'Credit rating, research, and risk analysis firm.'}, {'name': 'S&P Global', 'description': 'Provider of financial market intelligence, benchmarks, and analytics.'}, {'name': 'The Walt Disney Company', 'description': 'Entertainment and media company.'}, {'name': 'Netflix, Inc.', 'description': 'Subscription-based streaming service and production company.'}, {'name': 'Comcast Corporation', 'description': 'Media and technology company.'}, {'name': 'AT&T Inc.', 'description': 'Telecommunications, media, and technology company.'}, {'name': 'ViacomCBS Inc.', 'description': 'Media and entertainment company.'}, {'name': 'WarnerMedia (AT&T)', 'description': 'Media and entertainment company.'}, {'name': 'NBCUniversal (Comcast)', 'description': 'Media and entertainment company.'}, {'name': 'The New York Times Company', 'description': 'News and media company.'}, {'name': 'The Washington Post (Jeff Bezos)', 'description': 'News and media company.'}, {'name': 'Bloomberg L.P.', 'description': 'Media, data, and financial services company.'}, {'name': 'Reed Elsevier plc (RELX Group)', 'description': 'Information and analytics provider.'}, {'name': 'News Corp', 'description': 'Media and information services company.'}, {'name': '21st Century Fox (The Walt Disney Company)', 'description': 'Media and entertainment company.'}, {'name': 'Time Warner (AT&T)', 'description': 'Media and entertainment company.'}, {'name': 'Paramount Global (ViacomCBS)', 'description': 'Media and entertainment company.'}, {'name': 'AMC Networks Inc.', 'description': 'Entertainment company.'}, {'name': 'Discovery, Inc.', 'description': 'Media and entertainment company.'}, {'name': 'Lions Gate Entertainment Corp.', 'description': 'Entertainment company.'}, {'name': 'Sony Pictures Entertainment (Sony)', 'description': 'Entertainment company.'}, {'name': 'Universal Pictures (NBCUniversal, Comcast)', 'description': 'Entertainment company.'}, {'name': 'Walt Disney Company', 'description': 'Entertainment and real estate company.'}, {'name': 'Simon Property Group', 'description': 'Real estate investment trust (REIT).'}, {'name': 'Brookfield Property Partners L.P.', 'description': 'Real estate investment company.'}, {'name': 'Prologis, Inc.', 'description': 'Industrial real estate company.'}, {'name': 'Equity Residential', 'description': 'Apartment REIT.'}, {'name': 'Public Storage', 'description': 'Self-storage REIT.'}, {'name': 'American Tower Corporation', 'description': 'Real estate investment trust (REIT).'}, {'name': 'Cellnex Telecom', 'description': 'Telecommunications infrastructure company.'}, {'name': 'Crown Castle Inc.', 'description': 'Fiber and wireless infrastructure company.'}, {'name': 'DigitalBridge Group, Inc.', 'description': 'Digital infrastructure company.'}, {'name': 'American Homes 4 Rent', 'description': 'Single-family home rental company.'}, {'name': 'Invitation Homes, Inc.', 'description': 'Single-family home rental company.'}, {'name': 'Toll Brothers, Inc.', 'description': 'Home construction company.'}, {'name': 'Lennar Corporation', 'description': 'Home construction company.'}, {'name': 'D.R. Horton, Inc.', 'description': 'Home construction company.'}, {'name': 'PulteGroup, Inc.', 'description': 'Home construction company.'}, {'name': 'KB Home', 'description': 'Home construction company.'}, {'name': 'Taylor Morrison Home Corporation', 'description': 'Home construction company.'}, {'name': 'Merrill Lynch (Bank of America)', 'description': 'Investment banking and financial services.'}, {'name': 'Morgan Stanley', 'description': 'Global financial services firm.'}, {'name': 'Nestlé S.A.', 'description': 'Nutrition, health, and wellness company.'}, {'name': 'The Coca-Cola Company', 'description': 'Beverage company.'}, {'name': 'PepsiCo, Inc.', 'description': 'Food, snack, and beverage company.'}, {'name': 'Anheuser-Busch InBev SA/NV', 'description': 'Brewing company.'}, {'name': 'The Kraft Heinz Company', 'description': 'Food and beverage company.'}, {'name': 'General Mills, Inc.', 'description': 'Food manufacturing company.'}, {'name': ' Mondelez International, Inc.', 'description': 'Snack food and beverage company.'}, {'name': 'Danone S.A.', 'description': 'Food and beverage company.'}, {'name': 'Unilever', 'description': 'Consumer goods company.'}, {'name': 'Procter & Gamble Co.', 'description': 'Consumer goods company.'}, {'name': 'Mars, Incorporated', 'description': 'Confectionery, pet food, and other food products manufacturer.'}, {'name': 'Ferrara Candy Company', 'description': 'Confectionery manufacturer.'}, {'name': 'Hershey Company', 'description': 'Confectionery manufacturer.'}, {'name': 'Yum! Brands, Inc.', 'description': 'Fast food restaurant company.'}, {'name': \"McDonald's Corporation\", 'description': 'Fast food restaurant company.'}, {'name': 'Starbucks Corporation', 'description': 'Coffeehouse chain.'}, {'name': \"Dunkin' Brands Group, Inc.\", 'description': 'Coffee and donut chain.'}, {'name': \"Domino's Pizza, Inc.\", 'description': 'Pizza restaurant chain.'}, {'name': \"Papa John's International, Inc.\", 'description': 'Pizza restaurant chain.'}, {'name': 'Subway IP LLC', 'description': 'Fast food restaurant franchise.'}, {'name': 'The Boeing Company', 'description': 'Aerospace and'}]\n",
            "[{'field': 'Technology', 'name': 'TechCorp', 'description': 'A leading provider of software solutions for businesses'}, {'field': 'Finance', 'name': 'FinTech Inc.', 'description': 'A financial services company offering investment and banking solutions'}, {'field': 'Healthcare', 'name': 'MedCare Solutions', 'description': 'A healthcare technology company providing medical billing and practice management services'}, {'field': 'E-commerce', 'name': 'ShopEasy', 'description': 'An e-commerce platform offering online shopping and logistics services'}, {'field': 'Education', 'name': 'LearnWell', 'description': 'An online education platform providing courses and training programs'}, {'field': 'Marketing', 'name': 'AdVantage', 'description': 'A digital marketing agency offering advertising and branding services'}, {'field': 'Real Estate', 'name': 'PropertyPro', 'description': 'A real estate company offering property management and brokerage services'}, {'field': 'Energy', 'name': 'GreenPower', 'description': 'A renewable energy company providing solar and wind power solutions'}, {'field': 'Manufacturing', 'name': 'Prodigy Industries', 'description': 'A manufacturing company producing industrial equipment and machinery'}, {'field': 'Logistics', 'name': 'LogiTech', 'description': 'A logistics company offering transportation and supply chain management services'}, {'field': 'Food and Beverage', 'name': 'TastyBites', 'description': 'A food processing company producing healthy snacks and beverages'}, {'field': 'Travel', 'name': 'TripMate', 'description': 'A travel agency offering booking and planning services for trips and vacations'}, {'field': 'Media', 'name': 'NewsHub', 'description': 'A media company producing news and entertainment content'}, {'field': 'Construction', 'name': 'BuildPro', 'description': 'A construction company offering building and renovation services'}, {'field': 'Agriculture', 'name': 'FarmFresh', 'description': 'An agricultural company producing fresh produce and livestock'}, {'field': 'Automotive', 'name': 'DriveTech', 'description': 'An automotive company offering car repair and maintenance services'}, {'field': 'Telecommunications', 'name': 'ComLink', 'description': 'A telecommunications company providing internet and phone services'}, {'field': 'Environmental', 'name': 'GreenCycle', 'description': 'An environmental company offering recycling and waste management services'}, {'field': 'Non-Profit', 'name': 'HelpingHands', 'description': 'A non-profit organization providing humanitarian aid and disaster relief'}, {'field': 'Government', 'name': 'GovServe', 'description': 'A government agency providing public services and administration'}, {'field': 'Consulting', 'name': 'StratAgility', 'description': 'A consulting company offering strategy and management services'}, {'field': 'Software', 'name': 'CodeCraft', 'description': 'A software development company producing custom software solutions'}, {'field': 'Cybersecurity', 'name': 'SecureNet', 'description': 'A cybersecurity company offering security and risk management services'}, {'field': 'Retail', 'name': 'ShopSmart', 'description': 'A retail company offering e-commerce and brick-and-mortar shopping services'}, {'field': 'Hospitality', 'name': 'HotelHub', 'description': 'A hospitality company offering hotel and accommodation services'}, {'field': 'Transportation', 'name': 'MoveEasy', 'description': 'A transportation company offering logistics and delivery services'}, {'field': 'Insurance', 'name': 'InsurePro', 'description': 'An insurance company offering health, life, and property insurance services'}, {'field': 'Aerospace', 'name': 'SpaceTech', 'description': 'An aerospace company producing aircraft and spacecraft components'}, {'field': 'Biotechnology', 'name': 'BioSolutions', 'description': 'A biotechnology company developing medical and pharmaceutical products'}, {'field': 'Chemical', 'name': 'ChemPro', 'description': 'A chemical company producing industrial and consumer chemicals'}, {'field': 'Pharmaceutical', 'name': 'PharMed', 'description': 'A pharmaceutical company developing and manufacturing prescription drugs'}, {'field': 'Petroleum', 'name': 'PetrolCorp', 'description': 'A petroleum company producing oil and natural gas'}, {'field': 'Steel', 'name': 'SteelWorks', 'description': 'A steel company producing steel products and materials'}, {'field': 'Textile', 'name': 'FabricFusion', 'description': 'A textile company producing fabrics and clothing'}, {'field': 'Waste Management', 'name': 'WasteWise', 'description': 'A waste management company offering recycling and disposal services'}, {'field': 'Water Treatment', 'name': 'WaterPure', 'description': 'A water treatment company providing water purification and filtration services'}, {'field': 'Wind Energy', 'name': 'WindPower', 'description': 'A wind energy company producing wind turbines and providing renewable energy solutions'}, {'field': 'Yacht and Boat', 'name': 'SeaCraft', 'description': 'A yacht and boat company producing luxury vessels and offering charter services'}, {'field': 'Zoo and Aquarium', 'name': 'WildlifeWonders', 'description': 'A zoo and aquarium company operating wildlife sanctuaries and providing educational programs'}, {'field': 'Accounting', 'name': 'AccuCount', 'description': 'An accounting company offering financial planning and bookkeeping services'}, {'field': 'Advertising', 'name': 'AdVantage', 'description': 'An advertising agency offering marketing and branding services'}, {'field': 'Agricultural Equipment', 'name': 'FarmTech', 'description': 'An agricultural equipment company producing farm machinery and tools'}, {'field': 'Air Conditioning', 'name': 'CoolTech', 'description': 'An air conditioning company offering HVAC installation and maintenance services'}, {'field': 'Airport Services', 'name': 'AirPortHub', 'description': 'An airport services company offering ground handling and logistics services'}, {'field': 'Architecture', 'name': 'Architects Inc.', 'description': 'An architecture company offering design and planning services for buildings and structures'}, {'field': 'Art and Design', 'name': 'Artistry', 'description': 'An art and design company offering graphic design and visual arts services'}, {'field': 'Automotive Parts', 'name': 'AutoPartsPro', 'description': 'An automotive parts company producing and distributing car parts and accessories'}, {'field': 'Banking', 'name': 'BankPlus', 'description': 'A banking company offering personal and commercial banking services'}, {'field': 'Beauty and Cosmetics', 'name': 'BeautyBazaar', 'description': 'A beauty and cosmetics company producing skincare and makeup products'}, {'field': 'Biomedical', 'name': 'BioMedTech', 'description': 'A biomedical company developing medical devices and equipment'}, {'field': 'Broadcasting', 'name': 'BroadcastHub', 'description': 'A broadcasting company offering radio and television broadcasting services'}, {'field': 'Building Materials', 'name': 'BuildPro', 'description': 'A building materials company producing and distributing construction materials'}, {'field': 'Business Consulting', 'name': 'ConsultPro', 'description': 'A business consulting company offering strategy and management services'}, {'field': 'Chemical Processing', 'name': 'ChemPro', 'description': 'A chemical processing company producing industrial and consumer chemicals'}, {'field': 'Civil Engineering', 'name': 'CivilTech', 'description': 'A civil engineering company offering design and construction services for infrastructure projects'}, {'field': 'Cleaning Services', 'name': 'CleanSweep', 'description': 'A cleaning services company offering janitorial and maintenance services'}]\n",
            "[{'field': 'Space Exploration', 'name': 'Galactic Oasis', 'description': 'A space exploration company focused on establishing sustainable human settlements on Mars and other planets, with a mission to create a new era of interplanetary commerce and innovation.'}, {'field': 'Artificial Intelligence', 'name': 'EchoMind', 'description': 'An AI company developing advanced neural networks that can learn and adapt to human emotions, with a goal of creating AI-powered emotional intelligence that can revolutionize the way we interact with technology.'}, {'field': 'Bioluminescent Technology', 'name': 'Lumina Vita', 'description': 'A biotech company harnessing the power of bioluminescent organisms to create sustainable and renewable energy sources, with a mission to illuminate the world with a new era of eco-friendly lighting solutions.'}, {'field': 'Virtual Reality Entertainment', 'name': 'Dreamscapes Inc.', 'description': 'A VR entertainment company creating immersive and interactive experiences that blur the lines between reality and fantasy, with a goal of revolutionizing the entertainment industry and pushing the boundaries of human imagination.'}, {'field': 'Environmental Conservation', 'name': 'TerraVerde', 'description': 'An environmental conservation company using advanced technologies and sustainable practices to restore and preserve ecosystems, with a mission to create a greener and more resilient planet for future generations.'}]\n",
            "[{'name': 'TechNova', 'description': 'A leading software development company specializing in AI and machine learning solutions.'}, {'name': 'GreenEarth Energy', 'description': 'An innovative renewable energy company focused on solar and wind power generation.'}, {'name': 'HealthWave', 'description': 'A healthcare technology firm providing telemedicine and digital health platforms.'}, {'name': 'UrbanGrowth', 'description': 'A real estate development company focusing on sustainable urban housing projects.'}, {'name': 'FinWise', 'description': 'A financial technology company offering smart banking and investment solutions.'}, {'name': 'BioGenius', 'description': 'A biotechnology firm developing advanced medical treatments and therapies.'}, {'name': 'EcoDrive', 'description': 'An automotive company specializing in electric and hybrid vehicle technology.'}, {'name': 'SkyLine Aerospace', 'description': 'An aerospace engineering company working on next-generation space exploration technologies.'}, {'name': 'AgriTech Solutions', 'description': 'A company providing advanced agricultural technologies to enhance crop yield and sustainability.'}, {'name': 'EduSphere', 'description': 'An education technology company offering online learning platforms and educational tools.'}, {'name': 'MediConnect', 'description': 'A healthcare services company connecting patients with medical professionals and facilities.'}, {'name': 'SmartBuild', 'description': 'A construction technology company specializing in smart building materials and IoT solutions.'}, {'name': 'OceanGuard', 'description': 'An environmental company focused on marine conservation and ocean cleanup technologies.'}, {'name': 'FoodTech Innovations', 'description': 'A food technology company developing sustainable and nutritious food products.'}, {'name': 'CyberShield', 'description': 'A cybersecurity firm providing advanced threat detection and protection services.'}, {'name': 'QuantumLeap', 'description': 'A quantum computing company working on revolutionary computational technologies.'}, {'name': 'GreenFleet', 'description': 'A logistics company specializing in eco-friendly transportation and supply chain solutions.'}, {'name': 'BioNexus', 'description': 'A biotechnology company focused on genetic research and personalized medicine.'}, {'name': 'UrbanEco', 'description': 'A company dedicated to urban planning and sustainable city development.'}, {'name': 'FinTech Fusion', 'description': 'A financial technology company integrating blockchain and digital currency solutions.'}, {'name': 'HealthSync', 'description': 'A healthcare technology company providing wearable health monitoring devices.'}, {'name': 'SmartAgri', 'description': 'An agricultural technology company offering precision farming and IoT solutions.'}, {'name': 'SkyTech', 'description': 'An aviation technology company developing advanced drone and aircraft technologies.'}, {'name': 'EcoBuilders', 'description': 'A construction company specializing in green building and sustainable architecture.'}, {'name': 'MediTech Innovations', 'description': 'A medical technology company developing cutting-edge diagnostic and treatment devices.'}, {'name': 'GreenPath', 'description': 'A renewable energy company focused on biomass and geothermal power generation.'}, {'name': 'CyberNet', 'description': 'A networking technology company providing secure and scalable cloud solutions.'}, {'name': 'QuantumVision', 'description': 'A computer vision company leveraging AI and machine learning for image recognition.'}, {'name': 'UrbanTransit', 'description': 'A transportation technology company developing smart public transit systems.'}, {'name': 'BioTech Nexus', 'description': 'A biotechnology company focused on agricultural innovations and crop protection.'}, {'name': 'GreenWave', 'description': 'An environmental technology company working on ocean energy and marine conservation.'}, {'name': 'FinTech Nexus', 'description': 'A financial technology company offering blockchain-based payment solutions.'}, {'name': 'HealthTech Innovations', 'description': 'A healthcare technology company developing advanced medical imaging devices.'}, {'name': 'SmartFarm', 'description': 'An agricultural technology company providing IoT-based farming solutions.'}, {'name': 'SkyNet', 'description': 'An aerospace technology company working on satellite communication systems.'}, {'name': 'EcoHomes', 'description': 'A real estate company specializing in sustainable and energy-efficient housing.'}, {'name': 'MediWave', 'description': 'A healthcare technology company focused on remote patient monitoring solutions.'}, {'name': 'GreenTech Innovations', 'description': 'A renewable energy company developing advanced battery storage technologies.'}, {'name': 'CyberVision', 'description': 'A cybersecurity company providing AI-driven threat detection and response solutions.'}, {'name': 'QuantumTech', 'description': 'A quantum computing company working on quantum cryptography and secure communications.'}, {'name': 'UrbanTech', 'description': 'A technology company focused on smart city solutions and urban infrastructure.'}, {'name': 'BioTech Innovations', 'description': 'A biotechnology company developing advanced genetic engineering technologies.'}, {'name': 'GreenFleet Logistics', 'description': 'A logistics company specializing in electric vehicle fleets and sustainable transportation.'}, {'name': 'FinTech Innovations', 'description': 'A financial technology company offering AI-driven financial planning and analysis tools.'}, {'name': 'HealthTech Nexus', 'description': 'A healthcare technology company focused on digital health records and patient management systems.'}, {'name': 'SmartAgriTech', 'description': 'An agricultural technology company providing precision farming and crop analytics.'}, {'name': 'SkyTech Innovations', 'description': 'An aerospace technology company developing advanced drone delivery systems.'}, {'name': 'EcoBuild Innovations', 'description': 'A construction technology company specializing in sustainable building materials and methods.'}, {'name': 'MediTech Nexus', 'description': 'A medical technology company focused on advanced surgical robotics and AI-driven diagnostics.'}]\n",
            "[{'field': 'Technology', 'name': 'TechCorp', 'description': 'A leading provider of software solutions for businesses'}, {'field': 'Finance', 'name': 'FinTech Inc.', 'description': 'A financial services company offering investment and banking solutions'}, {'field': 'Healthcare', 'name': 'MedCare Solutions', 'description': 'A healthcare technology company providing medical billing and practice management services'}, {'field': 'E-commerce', 'name': 'ShopEasy', 'description': 'An e-commerce platform offering online shopping and logistics services'}, {'field': 'Education', 'name': 'LearnWell', 'description': 'An online education platform providing courses and training programs'}, {'field': 'Marketing', 'name': 'AdVantage', 'description': 'A digital marketing agency offering advertising and branding services'}, {'field': 'Real Estate', 'name': 'PropertyPro', 'description': 'A real estate company offering property management and brokerage services'}, {'field': 'Energy', 'name': 'GreenPower', 'description': 'A renewable energy company providing solar and wind power solutions'}, {'field': 'Manufacturing', 'name': 'Prodigy Industries', 'description': 'A manufacturing company producing industrial equipment and machinery'}, {'field': 'Logistics', 'name': 'LogiTech', 'description': 'A logistics company offering transportation and supply chain management services'}, {'field': 'Food and Beverage', 'name': 'TastyBites', 'description': 'A food processing company producing healthy snacks and beverages'}, {'field': 'Travel', 'name': 'TripMate', 'description': 'A travel agency offering booking and planning services for trips and vacations'}, {'field': 'Media', 'name': 'NewsHub', 'description': 'A media company producing news and entertainment content'}, {'field': 'Construction', 'name': 'BuildPro', 'description': 'A construction company offering building and renovation services'}, {'field': 'Agriculture', 'name': 'FarmFresh', 'description': 'An agricultural company producing fresh produce and livestock'}, {'field': 'Automotive', 'name': 'DriveTech', 'description': 'An automotive company offering car repair and maintenance services'}, {'field': 'Telecommunications', 'name': 'ComLink', 'description': 'A telecommunications company providing internet and phone services'}, {'field': 'Environmental', 'name': 'GreenCycle', 'description': 'An environmental company offering recycling and waste management services'}, {'field': 'Non-Profit', 'name': 'HelpingHands', 'description': 'A non-profit organization providing humanitarian aid and disaster relief'}, {'field': 'Government', 'name': 'GovServe', 'description': 'A government agency providing public services and administration'}, {'field': 'Consulting', 'name': 'StratAgility', 'description': 'A consulting company offering strategy and management services'}, {'field': 'Software', 'name': 'CodeCraft', 'description': 'A software development company producing custom software solutions'}, {'field': 'Cybersecurity', 'name': 'SecureNet', 'description': 'A cybersecurity company offering security and risk management services'}, {'field': 'Retail', 'name': 'ShopSmart', 'description': 'A retail company offering e-commerce and brick-and-mortar shopping services'}, {'field': 'Hospitality', 'name': 'HotelHub', 'description': 'A hospitality company offering hotel and accommodation services'}, {'field': 'Transportation', 'name': 'MoveEasy', 'description': 'A transportation company offering logistics and delivery services'}, {'field': 'Insurance', 'name': 'InsurePro', 'description': 'An insurance company offering health, life, and property insurance services'}, {'field': 'Aerospace', 'name': 'SpaceTech', 'description': 'An aerospace company producing aircraft and spacecraft components'}, {'field': 'Biotechnology', 'name': 'BioSolutions', 'description': 'A biotechnology company developing medical and pharmaceutical products'}, {'field': 'Chemical', 'name': 'ChemPro', 'description': 'A chemical company producing industrial and consumer chemicals'}, {'field': 'Pharmaceutical', 'name': 'PharMed', 'description': 'A pharmaceutical company developing and manufacturing prescription drugs'}, {'field': 'Petroleum', 'name': 'PetrolCorp', 'description': 'A petroleum company producing oil and natural gas'}, {'field': 'Steel', 'name': 'SteelWorks', 'description': 'A steel company producing steel products and materials'}, {'field': 'Textile', 'name': 'FabricFusion', 'description': 'A textile company producing fabrics and clothing'}, {'field': 'Waste Management', 'name': 'WasteWise', 'description': 'A waste management company offering recycling and disposal services'}, {'field': 'Water Treatment', 'name': 'WaterPure', 'description': 'A water treatment company providing water purification and filtration services'}, {'field': 'Wind Energy', 'name': 'WindPower', 'description': 'A wind energy company producing wind turbines and providing renewable energy solutions'}, {'field': 'Yacht and Boat', 'name': 'SeaCraft', 'description': 'A yacht and boat company producing luxury vessels and offering charter services'}, {'field': 'Zoo and Aquarium', 'name': 'WildlifeWonders', 'description': 'A zoo and aquarium company operating wildlife sanctuaries and providing educational programs'}, {'field': 'Accounting', 'name': 'AccuCount', 'description': 'An accounting company offering financial planning and bookkeeping services'}, {'field': 'Advertising', 'name': 'AdVantage', 'description': 'An advertising agency offering marketing and branding services'}, {'field': 'Agricultural Equipment', 'name': 'FarmTech', 'description': 'An agricultural equipment company producing farm machinery and tools'}, {'field': 'Air Conditioning', 'name': 'CoolTech', 'description': 'An air conditioning company offering HVAC installation and maintenance services'}, {'field': 'Airport Services', 'name': 'AirPortHub', 'description': 'An airport services company offering ground handling and logistics services'}, {'field': 'Architecture', 'name': 'Architects Inc.', 'description': 'An architecture company offering design and planning services for buildings and structures'}, {'field': 'Art and Design', 'name': 'Artistry', 'description': 'An art and design company offering graphic design and visual arts services'}, {'field': 'Automotive Parts', 'name': 'AutoPartsPro', 'description': 'An automotive parts company producing and distributing car parts and accessories'}, {'field': 'Banking', 'name': 'BankPlus', 'description': 'A banking company offering personal and commercial banking services'}, {'field': 'Beauty and Cosmetics', 'name': 'BeautyBazaar', 'description': 'A beauty and cosmetics company producing skincare and makeup products'}, {'field': 'Biomedical', 'name': 'BioMedTech', 'description': 'A biomedical company developing medical devices and equipment'}, {'field': 'Broadcasting', 'name': 'BroadcastHub', 'description': 'A broadcasting company offering radio and television broadcasting services'}, {'field': 'Building Materials', 'name': 'BuildPro', 'description': 'A building materials company producing and distributing construction materials'}, {'field': 'Business Consulting', 'name': 'ConsultPro', 'description': 'A business consulting company offering strategy and management services'}, {'field': 'Chemical Processing', 'name': 'ChemPro', 'description': 'A chemical processing company producing industrial and consumer chemicals'}, {'field': 'Civil Engineering', 'name': 'CivilTech', 'description': 'A civil engineering company offering design and construction services for infrastructure projects'}, {'field': 'Cleaning Services', 'name': 'CleanSweep', 'description': 'A cleaning services company offering janitorial and maintenance services'}]\n"
          ]
        }
      ]
    },
    {
      "cell_type": "code",
      "source": [
        "from datasets import load_dataset\n",
        "from huggingface_hub import login\n",
        "from google.colab import userdata\n",
        "if False:\n",
        "  # Load the JSONL file into a Hugging Face dataset\n",
        "  dataset = load_dataset('json', data_files='/content/merged_data.jsonl')\n",
        "\n",
        "  # Print the dataset to verify\n",
        "  print(dataset)\n",
        "\n",
        "  # Authenticate with your Hugging Face token\n",
        "  # login(token=userdata.get('hftoken'))\n",
        "\n",
        "  # Push the dataset to the Hugging Face Hub\n",
        "  dataset.push_to_hub(\"pacozaa/company-v1\",token=userdata.get('hftoken'))\n",
        "\n",
        "  print(\"Dataset has been pushed to the Hugging Face Hub.\")"
      ],
      "metadata": {
        "colab": {
          "base_uri": "https://localhost:8080/",
          "height": 206,
          "referenced_widgets": [
            "4c0a964ff4de45eebd4db64ba2cb3664",
            "fa8e44405b74453ba75144be7e602ecf",
            "eabf0b9616a94d59a5aed03b3a7a1433",
            "011d1b745fcf4ef5b6142c6129ecf3eb",
            "ec28b1f25df843eeb8b879c70de41ef8",
            "bfa53198607a407280d40674a2e6e56d",
            "d44d25f604d7431c827d98967de2145f",
            "a67682789e874fa8b68dab76d64d4bf2",
            "ba2adcaad0dd492f98ceef1f5eddb91e",
            "921f19cde0e84ef5a84e2fc6aac332d9",
            "482946ac8a9a4d0da759d41fee2ec7d4",
            "a1eb39fbf547467d9664b416354e06cb",
            "bd4f703f4c6845c181bfe01bd4fcff3d",
            "877b6b13b303412397e9f4ac86b4206b",
            "ea62d543eb63469b8f038daa0503a367",
            "231e322c75e84799b95733311e1305c5",
            "a9c8e5122dfc494484a9ed9ee526ae53",
            "d42863cdc9e54f34881328497189d06b",
            "4ec77cd6e69a4f759bbf2edcba7af668",
            "f48d8e3605cc4f26a6428492e33aba48",
            "655e2bf9ef8a4413a80cad446931618d",
            "5f5e2907199a49a0ba696a976e20ace3"
          ]
        },
        "id": "VxQQmJ7kcbQe",
        "outputId": "41153469-61bf-4016-9036-5f54e5a255ff"
      },
      "execution_count": 7,
      "outputs": [
        {
          "output_type": "stream",
          "name": "stdout",
          "text": [
            "DatasetDict({\n",
            "    train: Dataset({\n",
            "        features: ['name', 'description', 'field'],\n",
            "        num_rows: 754\n",
            "    })\n",
            "})\n"
          ]
        },
        {
          "output_type": "display_data",
          "data": {
            "text/plain": [
              "Uploading the dataset shards:   0%|          | 0/1 [00:00<?, ?it/s]"
            ],
            "application/vnd.jupyter.widget-view+json": {
              "version_major": 2,
              "version_minor": 0,
              "model_id": "4c0a964ff4de45eebd4db64ba2cb3664"
            }
          },
          "metadata": {}
        },
        {
          "output_type": "display_data",
          "data": {
            "text/plain": [
              "Creating parquet from Arrow format:   0%|          | 0/1 [00:00<?, ?ba/s]"
            ],
            "application/vnd.jupyter.widget-view+json": {
              "version_major": 2,
              "version_minor": 0,
              "model_id": "a1eb39fbf547467d9664b416354e06cb"
            }
          },
          "metadata": {}
        },
        {
          "output_type": "stream",
          "name": "stdout",
          "text": [
            "Dataset has been pushed to the Hugging Face Hub.\n"
          ]
        }
      ]
    },
    {
      "cell_type": "code",
      "source": [
        "# Load dataset\n",
        "dataset = load_dataset(\"pacozaa/company-v1\")\n",
        "# map to find field using llm"
      ],
      "metadata": {
        "id": "IwVD3k7RgFtm"
      },
      "execution_count": null,
      "outputs": []
    },
    {
      "cell_type": "code",
      "source": [
        "from groq import Groq\n",
        "client = Groq(\n",
        "      api_key=userdata.get('GROQ_API_KEY')\n",
        "  )"
      ],
      "metadata": {
        "id": "pKM4QpbgFf_h"
      },
      "execution_count": 9,
      "outputs": []
    },
    {
      "cell_type": "code",
      "source": [
        "def llm(prompt):\n",
        "  chat_completion = client.chat.completions.create(\n",
        "      messages=[\n",
        "          {\n",
        "              \"role\": \"user\",\n",
        "              \"content\": f\"\"\"{prompt}\"\"\",\n",
        "          }\n",
        "      ],\n",
        "      model=\"llama3-8b-8192\",\n",
        "  )\n",
        "  return chat_completion.choices[0].message.content.strip()"
      ],
      "metadata": {
        "id": "LzmcCLOY9f7f"
      },
      "execution_count": null,
      "outputs": []
    },
    {
      "cell_type": "code",
      "source": [
        "llm(\"hi\")"
      ],
      "metadata": {
        "id": "culPiKavFrq6"
      },
      "execution_count": null,
      "outputs": []
    }
  ]
}